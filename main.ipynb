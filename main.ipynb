{
 "cells": [
  {
   "cell_type": "markdown",
   "metadata": {},
   "source": [
    "## 데이터 분리\n",
    "* ASCII와 NON-ASCII 분리"
   ]
  },
  {
   "cell_type": "code",
   "execution_count": null,
   "metadata": {},
   "outputs": [],
   "source": [
    "from src.utils.data_classification import DataClassification\n",
    "\n",
    "classifier = DataClassification()\n",
    "classifier.run()\n"
   ]
  },
  {
   "cell_type": "code",
   "execution_count": null,
   "metadata": {},
   "outputs": [],
   "source": [
    "from src.config.data_config import NewsProcessorConfig\n",
    "from src.ascii.find_field import NewsProcessor\n",
    "\n",
    "# 프로세서 초기화\n",
    "config = NewsProcessorConfig()\n",
    "processor = NewsProcessor(config)\n",
    "# 데이터 처리 실행\n",
    "new_df = processor.run()"
   ]
  }
 ],
 "metadata": {
  "kernelspec": {
   "display_name": "level2_data_centric",
   "language": "python",
   "name": "python3"
  },
  "language_info": {
   "codemirror_mode": {
    "name": "ipython",
    "version": 3
   },
   "file_extension": ".py",
   "mimetype": "text/x-python",
   "name": "python",
   "nbconvert_exporter": "python",
   "pygments_lexer": "ipython3",
   "version": "3.11.3"
  }
 },
 "nbformat": 4,
 "nbformat_minor": 2
}
