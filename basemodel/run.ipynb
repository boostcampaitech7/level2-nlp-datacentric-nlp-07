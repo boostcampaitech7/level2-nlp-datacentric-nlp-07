{
 "cells": [
  {
   "cell_type": "markdown",
   "metadata": {},
   "source": [
    "## 모델 학습/평가"
   ]
  },
  {
   "cell_type": "code",
   "execution_count": null,
   "metadata": {},
   "outputs": [],
   "source": [
    "from main import Model\n",
    "import os\n",
    "import pandas as pd\n",
    "from constants import *\n",
    "\n",
    "basic_model = Model()\n",
    "\n",
    "train_data = pd.read_csv(os.path.join(DATA_DIR, 'train.csv'))\n",
    "dataset_test = pd.read_csv(os.path.join(DATA_DIR, 'test.csv'))\n",
    "\n",
    "basic_model.train(train_data)\n",
    "basic_model.evaluate(dataset_test)"
   ]
  },
  {
   "cell_type": "markdown",
   "metadata": {},
   "source": [
    "## 결과 EDA"
   ]
  },
  {
   "cell_type": "markdown",
   "metadata": {},
   "source": [
    "### 분석 함수"
   ]
  },
  {
   "cell_type": "code",
   "execution_count": null,
   "metadata": {},
   "outputs": [],
   "source": [
    "import matplotlib.pyplot as plt\n",
    "import seaborn as sns\n",
    "\n",
    "#매핑 함수\n",
    "def mapping_label(df):\n",
    "    # 딕셔너리로 매핑 정의\n",
    "    label_map = {\n",
    "        0:'생활문화',1:'스포츠',2:'정치',3:'사회',4:'IT과학',5:'경제',6:'세계'\n",
    "    }\n",
    "    \n",
    "    # map 함수를 사용하여 변환\n",
    "    df['target'] = df['target'].map(label_map)\n",
    "    \n",
    "    return df\n",
    "\n",
    "#데이터 프레임 정보 출력\n",
    "def print_df(df):\n",
    "    print(df.info())\n",
    "    print(df.describe())\n",
    "    print(df.head())\n",
    "    \n",
    "def target_plot(df):\n",
    "    target_counts = df['target'].value_counts().sort_index()\n",
    "    print(target_counts)\n",
    "\n",
    "    # 시각화\n",
    "    plt.figure(figsize=(10, 6))\n",
    "    sns.barplot(x=target_counts.index, y=target_counts.values, palette='viridis')\n",
    "    plt.title('Count of Each Target Value')\n",
    "    plt.xlabel('Target Value')\n",
    "    plt.ylabel('Count')\n",
    "    plt.xticks(range(0, 7))  # target의 범위에 맞춰 x축 값 설정\n",
    "    plt.show()    \n",
    "    \n",
    "def print_targets(df):\n",
    "    # target 값에 따라 데이터프레임 정렬\n",
    "    df = df.sort_values(by='target')\n",
    "\n",
    "    # 각 target 값에 대해 샘플 출력\n",
    "    target_values = df['target'].unique()\n",
    "\n",
    "    for target in target_values:\n",
    "        print(f\"Target: {target}\")\n",
    "        samples = df[df['target'] == target].sample(n=10, random_state=42)\n",
    "        display(samples)  # Jupyter Notebook에서 DataFrame을 보기 좋게 출력\n"
   ]
  },
  {
   "cell_type": "markdown",
   "metadata": {},
   "source": [
    "### "
   ]
  },
  {
   "cell_type": "markdown",
   "metadata": {},
   "source": [
    "### 분석"
   ]
  },
  {
   "cell_type": "code",
   "execution_count": null,
   "metadata": {},
   "outputs": [],
   "source": [
    "df = pd.read_csv(os.path.join(BASE_DIR, 'output_basic.csv'))\n",
    "target_plot(df)"
   ]
  }
 ],
 "metadata": {
  "kernelspec": {
   "display_name": "base",
   "language": "python",
   "name": "python3"
  },
  "language_info": {
   "codemirror_mode": {
    "name": "ipython",
    "version": 3
   },
   "file_extension": ".py",
   "mimetype": "text/x-python",
   "name": "python",
   "nbconvert_exporter": "python",
   "pygments_lexer": "ipython3",
   "version": "3.10.13"
  }
 },
 "nbformat": 4,
 "nbformat_minor": 2
}
