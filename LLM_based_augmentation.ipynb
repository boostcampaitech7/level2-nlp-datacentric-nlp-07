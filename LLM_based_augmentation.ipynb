{
 "cells": [
  {
   "cell_type": "code",
   "execution_count": 7,
   "metadata": {},
   "outputs": [],
   "source": [
    "from langchain_core.prompts import ChatPromptTemplate\n",
    "from langchain_ollama import ChatOllama\n",
    "import pandas as pd\n",
    "import random\n",
    "from tqdm import tqdm\n",
    "import concurrent.futures"
   ]
  },
  {
   "cell_type": "code",
   "execution_count": 2,
   "metadata": {},
   "outputs": [],
   "source": [
    "file_name = 'clean_ascii'\n",
    "augmentation_multiplier = 5  # 5배 증강"
   ]
  },
  {
   "cell_type": "code",
   "execution_count": 3,
   "metadata": {},
   "outputs": [
    {
     "data": {
      "text/html": [
       "<div>\n",
       "<style scoped>\n",
       "    .dataframe tbody tr th:only-of-type {\n",
       "        vertical-align: middle;\n",
       "    }\n",
       "\n",
       "    .dataframe tbody tr th {\n",
       "        vertical-align: top;\n",
       "    }\n",
       "\n",
       "    .dataframe thead th {\n",
       "        text-align: right;\n",
       "    }\n",
       "</style>\n",
       "<table border=\"1\" class=\"dataframe\">\n",
       "  <thead>\n",
       "    <tr style=\"text-align: right;\">\n",
       "      <th></th>\n",
       "      <th>ID</th>\n",
       "      <th>target</th>\n",
       "      <th>text</th>\n",
       "    </tr>\n",
       "  </thead>\n",
       "  <tbody>\n",
       "    <tr>\n",
       "      <th>0</th>\n",
       "      <td>ynat-v1_train_00000</td>\n",
       "      <td>4</td>\n",
       "      <td>KT, 2단계 이용 기간의 Q분기 업데이트: 새로운 기능과 개선 사항 공개</td>\n",
       "    </tr>\n",
       "    <tr>\n",
       "      <th>1</th>\n",
       "      <td>ynat-v1_train_00013</td>\n",
       "      <td>4</td>\n",
       "      <td>애플, 맥북 프로 '배터리 수명 문제' 해결을 위한 소프트웨어 업데이트 출시</td>\n",
       "    </tr>\n",
       "    <tr>\n",
       "      <th>2</th>\n",
       "      <td>ynat-v1_train_00027</td>\n",
       "      <td>4</td>\n",
       "      <td>인공지능 기반 보안 기술, 기업의 데이터 보호에 혁명을 일으킨다</td>\n",
       "    </tr>\n",
       "    <tr>\n",
       "      <th>3</th>\n",
       "      <td>ynat-v1_train_00037</td>\n",
       "      <td>4</td>\n",
       "      <td>인공조명 혁신: dcST C, 생산성 향상 위한 고효율 LED 기술 개발</td>\n",
       "    </tr>\n",
       "    <tr>\n",
       "      <th>4</th>\n",
       "      <td>ynat-v1_train_00052</td>\n",
       "      <td>4</td>\n",
       "      <td>한국 시장에서의 전자제품 판매 실적: 얼마나 벌고 있을까?</td>\n",
       "    </tr>\n",
       "  </tbody>\n",
       "</table>\n",
       "</div>"
      ],
      "text/plain": [
       "                    ID  target                                        text\n",
       "0  ynat-v1_train_00000       4   KT, 2단계 이용 기간의 Q분기 업데이트: 새로운 기능과 개선 사항 공개\n",
       "1  ynat-v1_train_00013       4  애플, 맥북 프로 '배터리 수명 문제' 해결을 위한 소프트웨어 업데이트 출시\n",
       "2  ynat-v1_train_00027       4         인공지능 기반 보안 기술, 기업의 데이터 보호에 혁명을 일으킨다\n",
       "3  ynat-v1_train_00037       4    인공조명 혁신: dcST C, 생산성 향상 위한 고효율 LED 기술 개발\n",
       "4  ynat-v1_train_00052       4            한국 시장에서의 전자제품 판매 실적: 얼마나 벌고 있을까?"
      ]
     },
     "execution_count": 3,
     "metadata": {},
     "output_type": "execute_result"
    }
   ],
   "source": [
    "df: pd.DataFrame = pd.read_csv(f'data/{file_name}_remap.csv')\n",
    "df.drop(columns=['Unnamed: 0.1', 'Unnamed: 0'], inplace=True)\n",
    "df.head()"
   ]
  },
  {
   "cell_type": "code",
   "execution_count": 4,
   "metadata": {},
   "outputs": [],
   "source": [
    "prompt = ChatPromptTemplate.from_messages(\n",
    "    messages=[\n",
    "        (\n",
    "            \"system\",\n",
    "            \"\"\"\n",
    "            You are a helpful assistant that rewrites the given korean sentence by replacing some korean words with their synonyms. \n",
    "            Please provide only the modified korean sentence as the output.\n",
    "            \"\"\",\n",
    "        ),\n",
    "        (\n",
    "            \"human\",\n",
    "            \"{input}\",\n",
    "        )\n",
    "    ]\n",
    ")"
   ]
  },
  {
   "cell_type": "markdown",
   "metadata": {},
   "source": [
    "# 동의어 대체 증강"
   ]
  },
  {
   "cell_type": "code",
   "execution_count": 9,
   "metadata": {},
   "outputs": [],
   "source": [
    "def augment_sentence(original_id, original_target, sentence, n=augmentation_multiplier):\n",
    "    augmented_data = []\n",
    "    for _ in range(n):\n",
    "        llm = ChatOllama(\n",
    "            model=\"gemma2:27b\",\n",
    "            seed=random.randint(0, 10000),\n",
    "            temperature=0.7  # 다양성을 위해 온도를 높게 설정\n",
    "        )\n",
    "        chain = prompt | llm\n",
    "        augmented_sentence = chain.invoke(input={'input': sentence})\n",
    "        augmented_data.append({\n",
    "            'ID': original_id,\n",
    "            'target': original_target,\n",
    "            'text': augmented_sentence.content.strip()\n",
    "        })\n",
    "    return augmented_data"
   ]
  },
  {
   "cell_type": "code",
   "execution_count": 10,
   "metadata": {},
   "outputs": [
    {
     "name": "stderr",
     "output_type": "stream",
     "text": [
      "100%|██████████| 1539/1539 [3:47:05<00:00,  8.85s/it]  \n"
     ]
    }
   ],
   "source": [
    "augmented_data = []\n",
    "with concurrent.futures.ThreadPoolExecutor(max_workers=5) as executor:\n",
    "    futures = []\n",
    "    for idx, row in df.iterrows():\n",
    "        original_id = row['ID']\n",
    "        original_target = row['target']\n",
    "        original_text = row['text']\n",
    "        futures.append(executor.submit(augment_sentence, original_id, original_target, original_text))\n",
    "    \n",
    "    for future in tqdm(concurrent.futures.as_completed(futures), total=len(futures)):\n",
    "        try:\n",
    "            augmented_data.extend(future.result())\n",
    "        except Exception as e:\n",
    "            print(f\"Error processing row: {e}\")"
   ]
  },
  {
   "cell_type": "code",
   "execution_count": 11,
   "metadata": {},
   "outputs": [
    {
     "data": {
      "text/html": [
       "<div>\n",
       "<style scoped>\n",
       "    .dataframe tbody tr th:only-of-type {\n",
       "        vertical-align: middle;\n",
       "    }\n",
       "\n",
       "    .dataframe tbody tr th {\n",
       "        vertical-align: top;\n",
       "    }\n",
       "\n",
       "    .dataframe thead th {\n",
       "        text-align: right;\n",
       "    }\n",
       "</style>\n",
       "<table border=\"1\" class=\"dataframe\">\n",
       "  <thead>\n",
       "    <tr style=\"text-align: right;\">\n",
       "      <th></th>\n",
       "      <th>ID</th>\n",
       "      <th>target</th>\n",
       "      <th>text</th>\n",
       "    </tr>\n",
       "  </thead>\n",
       "  <tbody>\n",
       "    <tr>\n",
       "      <th>0</th>\n",
       "      <td>ynat-v1_train_00000</td>\n",
       "      <td>4</td>\n",
       "      <td>KT, 2단계 이용 기간의 Q분기 업데이트: 새로운 기능과 개선 사항 공개</td>\n",
       "    </tr>\n",
       "    <tr>\n",
       "      <th>1</th>\n",
       "      <td>ynat-v1_train_00013</td>\n",
       "      <td>4</td>\n",
       "      <td>애플, 맥북 프로 '배터리 수명 문제' 해결을 위한 소프트웨어 업데이트 출시</td>\n",
       "    </tr>\n",
       "    <tr>\n",
       "      <th>2</th>\n",
       "      <td>ynat-v1_train_00027</td>\n",
       "      <td>4</td>\n",
       "      <td>인공지능 기반 보안 기술, 기업의 데이터 보호에 혁명을 일으킨다</td>\n",
       "    </tr>\n",
       "    <tr>\n",
       "      <th>3</th>\n",
       "      <td>ynat-v1_train_00037</td>\n",
       "      <td>4</td>\n",
       "      <td>인공조명 혁신: dcST C, 생산성 향상 위한 고효율 LED 기술 개발</td>\n",
       "    </tr>\n",
       "    <tr>\n",
       "      <th>4</th>\n",
       "      <td>ynat-v1_train_00052</td>\n",
       "      <td>4</td>\n",
       "      <td>한국 시장에서의 전자제품 판매 실적: 얼마나 벌고 있을까?</td>\n",
       "    </tr>\n",
       "    <tr>\n",
       "      <th>...</th>\n",
       "      <td>...</td>\n",
       "      <td>...</td>\n",
       "      <td>...</td>\n",
       "    </tr>\n",
       "    <tr>\n",
       "      <th>9229</th>\n",
       "      <td>ynat-v1_train_02788</td>\n",
       "      <td>0</td>\n",
       "      <td>남원 지역 예술가 모집: 봄&gt;X학%단+분야별 선도력 프로그램 참여자 신청</td>\n",
       "    </tr>\n",
       "    <tr>\n",
       "      <th>9230</th>\n",
       "      <td>ynat-v1_train_02788</td>\n",
       "      <td>0</td>\n",
       "      <td>남원 지역 예술가 모집: 봄&gt;X학%단+분야별 선도력 프로그램 참여자 신청</td>\n",
       "    </tr>\n",
       "    <tr>\n",
       "      <th>9231</th>\n",
       "      <td>ynat-v1_train_02788</td>\n",
       "      <td>0</td>\n",
       "      <td>남원 지역 예술가 모집: 봄&gt;X학%단+분야별 선도력 프로그램 참여자 신청</td>\n",
       "    </tr>\n",
       "    <tr>\n",
       "      <th>9232</th>\n",
       "      <td>ynat-v1_train_02788</td>\n",
       "      <td>0</td>\n",
       "      <td>남원 지역 예술가 모집: 봄&gt;X학%단+분야별 선도력 프로그램 참여자 신청</td>\n",
       "    </tr>\n",
       "    <tr>\n",
       "      <th>9233</th>\n",
       "      <td>ynat-v1_train_02788</td>\n",
       "      <td>0</td>\n",
       "      <td>남원 지역 예술가 모집: 봄&gt;X학%단+분야별 선두력 프로그램 참여자 신청</td>\n",
       "    </tr>\n",
       "  </tbody>\n",
       "</table>\n",
       "<p>9234 rows × 3 columns</p>\n",
       "</div>"
      ],
      "text/plain": [
       "                       ID  target                                        text\n",
       "0     ynat-v1_train_00000       4   KT, 2단계 이용 기간의 Q분기 업데이트: 새로운 기능과 개선 사항 공개\n",
       "1     ynat-v1_train_00013       4  애플, 맥북 프로 '배터리 수명 문제' 해결을 위한 소프트웨어 업데이트 출시\n",
       "2     ynat-v1_train_00027       4         인공지능 기반 보안 기술, 기업의 데이터 보호에 혁명을 일으킨다\n",
       "3     ynat-v1_train_00037       4    인공조명 혁신: dcST C, 생산성 향상 위한 고효율 LED 기술 개발\n",
       "4     ynat-v1_train_00052       4            한국 시장에서의 전자제품 판매 실적: 얼마나 벌고 있을까?\n",
       "...                   ...     ...                                         ...\n",
       "9229  ynat-v1_train_02788       0    남원 지역 예술가 모집: 봄>X학%단+분야별 선도력 프로그램 참여자 신청\n",
       "9230  ynat-v1_train_02788       0    남원 지역 예술가 모집: 봄>X학%단+분야별 선도력 프로그램 참여자 신청\n",
       "9231  ynat-v1_train_02788       0    남원 지역 예술가 모집: 봄>X학%단+분야별 선도력 프로그램 참여자 신청\n",
       "9232  ynat-v1_train_02788       0    남원 지역 예술가 모집: 봄>X학%단+분야별 선도력 프로그램 참여자 신청\n",
       "9233  ynat-v1_train_02788       0    남원 지역 예술가 모집: 봄>X학%단+분야별 선두력 프로그램 참여자 신청\n",
       "\n",
       "[9234 rows x 3 columns]"
      ]
     },
     "execution_count": 11,
     "metadata": {},
     "output_type": "execute_result"
    }
   ],
   "source": [
    "augmented_df = pd.DataFrame(augmented_data)\n",
    "final_df = pd.concat([df, augmented_df], ignore_index=True)\n",
    "final_df"
   ]
  },
  {
   "cell_type": "code",
   "execution_count": 16,
   "metadata": {},
   "outputs": [
    {
     "data": {
      "text/html": [
       "<div>\n",
       "<style scoped>\n",
       "    .dataframe tbody tr th:only-of-type {\n",
       "        vertical-align: middle;\n",
       "    }\n",
       "\n",
       "    .dataframe tbody tr th {\n",
       "        vertical-align: top;\n",
       "    }\n",
       "\n",
       "    .dataframe thead th {\n",
       "        text-align: right;\n",
       "    }\n",
       "</style>\n",
       "<table border=\"1\" class=\"dataframe\">\n",
       "  <thead>\n",
       "    <tr style=\"text-align: right;\">\n",
       "      <th></th>\n",
       "      <th>ID</th>\n",
       "      <th>target</th>\n",
       "      <th>text</th>\n",
       "    </tr>\n",
       "  </thead>\n",
       "  <tbody>\n",
       "    <tr>\n",
       "      <th>0</th>\n",
       "      <td>ynat-v1_train_00000</td>\n",
       "      <td>4</td>\n",
       "      <td>KT, 2단계 이용 기간의 Q분기 업데이트: 새로운 기능과 개선 사항 공개</td>\n",
       "    </tr>\n",
       "    <tr>\n",
       "      <th>1</th>\n",
       "      <td>ynat-v1_train_00013</td>\n",
       "      <td>4</td>\n",
       "      <td>애플, 맥북 프로 '배터리 수명 문제' 해결을 위한 소프트웨어 업데이트 출시</td>\n",
       "    </tr>\n",
       "    <tr>\n",
       "      <th>2</th>\n",
       "      <td>ynat-v1_train_00027</td>\n",
       "      <td>4</td>\n",
       "      <td>인공지능 기반 보안 기술, 기업의 데이터 보호에 혁명을 일으킨다</td>\n",
       "    </tr>\n",
       "    <tr>\n",
       "      <th>3</th>\n",
       "      <td>ynat-v1_train_00037</td>\n",
       "      <td>4</td>\n",
       "      <td>인공조명 혁신: dcST C, 생산성 향상 위한 고효율 LED 기술 개발</td>\n",
       "    </tr>\n",
       "    <tr>\n",
       "      <th>4</th>\n",
       "      <td>ynat-v1_train_00052</td>\n",
       "      <td>4</td>\n",
       "      <td>한국 시장에서의 전자제품 판매 실적: 얼마나 벌고 있을까?</td>\n",
       "    </tr>\n",
       "  </tbody>\n",
       "</table>\n",
       "</div>"
      ],
      "text/plain": [
       "                    ID  target                                        text\n",
       "0  ynat-v1_train_00000       4   KT, 2단계 이용 기간의 Q분기 업데이트: 새로운 기능과 개선 사항 공개\n",
       "1  ynat-v1_train_00013       4  애플, 맥북 프로 '배터리 수명 문제' 해결을 위한 소프트웨어 업데이트 출시\n",
       "2  ynat-v1_train_00027       4         인공지능 기반 보안 기술, 기업의 데이터 보호에 혁명을 일으킨다\n",
       "3  ynat-v1_train_00037       4    인공조명 혁신: dcST C, 생산성 향상 위한 고효율 LED 기술 개발\n",
       "4  ynat-v1_train_00052       4            한국 시장에서의 전자제품 판매 실적: 얼마나 벌고 있을까?"
      ]
     },
     "execution_count": 16,
     "metadata": {},
     "output_type": "execute_result"
    }
   ],
   "source": [
    "final_df['text'] = final_df['text'].str.strip()\n",
    "final_df_unique = final_df.drop_duplicates(subset=['text'], keep='first', ignore_index=True)\n",
    "final_df_unique.head()\n"
   ]
  },
  {
   "cell_type": "code",
   "execution_count": 13,
   "metadata": {},
   "outputs": [],
   "source": [
    "final_df.to_csv(f'data/{file_name}_{augmentation_multiplier}_times_augmentation.csv')"
   ]
  }
 ],
 "metadata": {
  "kernelspec": {
   "display_name": "data-centric-NLP",
   "language": "python",
   "name": "python3"
  },
  "language_info": {
   "codemirror_mode": {
    "name": "ipython",
    "version": 3
   },
   "file_extension": ".py",
   "mimetype": "text/x-python",
   "name": "python",
   "nbconvert_exporter": "python",
   "pygments_lexer": "ipython3",
   "version": "3.10.15"
  }
 },
 "nbformat": 4,
 "nbformat_minor": 2
}
