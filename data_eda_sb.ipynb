{
 "cells": [
  {
   "cell_type": "markdown",
   "metadata": {},
   "source": [
    "# Data EDA\n",
    "* 세줄 요약\n",
    "  * Clustering 성능 생각보다 떨어짐\n",
    "    * 1400/1600개 정도만 탐지됨.\n",
    "    * 다양한 방법으로 시도했으나... 강제로 늘리면 오염된거랑 안된거랑 섞임  -> 포기\n",
    "  * 직접 구현\n",
    "    * 결론\n",
    "      ```python\n",
    "      (df['ascii_ratio'] >= 0.15) & \n",
    "      (df['special_char_ratio'] >= 0.030) &\n",
    "      (df['english_count'] >= 2) \n",
    "      ```\n",
    "    * 이렇게 하면 1543개가 추출되고 이중 2개만 잘못되었음\n",
    "    * 1541/1600, 2/1543 정도로 나쁘지 않게 추출됨."
   ]
  },
  {
   "cell_type": "markdown",
   "metadata": {},
   "source": [
    "# Library import 단계"
   ]
  },
  {
   "cell_type": "code",
   "execution_count": 34,
   "metadata": {},
   "outputs": [],
   "source": [
    "import pandas as pd\n",
    "import matplotlib.pyplot as plt\n",
    "import re\n",
    "from sklearn.cluster import DBSCAN\n",
    "from sklearn.neighbors import NearestNeighbors\n",
    "from sklearn.cluster import KMeans\n",
    "import numpy as np\n",
    "from sklearn.metrics import silhouette_score\n",
    "from sklearn.preprocessing import StandardScaler"
   ]
  },
  {
   "cell_type": "markdown",
   "metadata": {},
   "source": [
    "# Noise vs Non - Noise 분류\n",
    "* Noise가 포함된 데이터가 1600개\n",
    "  * 이때 Noise는 기사의 제목의 일부는 랜던함 `ASCII`로 변환함.\n",
    "* Non - Noise가 포함된 데이터가 1200개\n",
    "  * Non - Noise에서 제대로 Label된 데이터가 200개, label의 섞인 데이터가 1000개"
   ]
  },
  {
   "cell_type": "code",
   "execution_count": 35,
   "metadata": {},
   "outputs": [
    {
     "data": {
      "text/html": [
       "<div>\n",
       "<style scoped>\n",
       "    .dataframe tbody tr th:only-of-type {\n",
       "        vertical-align: middle;\n",
       "    }\n",
       "\n",
       "    .dataframe tbody tr th {\n",
       "        vertical-align: top;\n",
       "    }\n",
       "\n",
       "    .dataframe thead th {\n",
       "        text-align: right;\n",
       "    }\n",
       "</style>\n",
       "<table border=\"1\" class=\"dataframe\">\n",
       "  <thead>\n",
       "    <tr style=\"text-align: right;\">\n",
       "      <th></th>\n",
       "      <th>ID</th>\n",
       "      <th>text</th>\n",
       "      <th>target</th>\n",
       "    </tr>\n",
       "  </thead>\n",
       "  <tbody>\n",
       "    <tr>\n",
       "      <th>0</th>\n",
       "      <td>ynat-v1_train_00000</td>\n",
       "      <td>정i :파1 미사z KT( 이용기간 2e 단] Q분종U2보</td>\n",
       "      <td>4</td>\n",
       "    </tr>\n",
       "    <tr>\n",
       "      <th>1</th>\n",
       "      <td>ynat-v1_train_00001</td>\n",
       "      <td>K찰.국DLwo 로L3한N% 회장 2 T0&amp;}송=</td>\n",
       "      <td>3</td>\n",
       "    </tr>\n",
       "    <tr>\n",
       "      <th>2</th>\n",
       "      <td>ynat-v1_train_00002</td>\n",
       "      <td>m 김정) 자주통일 새,?r열1나가야1보</td>\n",
       "      <td>2</td>\n",
       "    </tr>\n",
       "    <tr>\n",
       "      <th>3</th>\n",
       "      <td>ynat-v1_train_00003</td>\n",
       "      <td>갤노트8 주말 27만대 개통…시장은 불법 보조금 얼룩</td>\n",
       "      <td>5</td>\n",
       "    </tr>\n",
       "    <tr>\n",
       "      <th>4</th>\n",
       "      <td>ynat-v1_train_00004</td>\n",
       "      <td>pI美대선I앞두고 R2fr단 발] $비해 감시 강화</td>\n",
       "      <td>6</td>\n",
       "    </tr>\n",
       "  </tbody>\n",
       "</table>\n",
       "</div>"
      ],
      "text/plain": [
       "                    ID                              text  target\n",
       "0  ynat-v1_train_00000  정i :파1 미사z KT( 이용기간 2e 단] Q분종U2보       4\n",
       "1  ynat-v1_train_00001       K찰.국DLwo 로L3한N% 회장 2 T0&}송=       3\n",
       "2  ynat-v1_train_00002            m 김정) 자주통일 새,?r열1나가야1보       2\n",
       "3  ynat-v1_train_00003     갤노트8 주말 27만대 개통…시장은 불법 보조금 얼룩       5\n",
       "4  ynat-v1_train_00004      pI美대선I앞두고 R2fr단 발] $비해 감시 강화       6"
      ]
     },
     "execution_count": 35,
     "metadata": {},
     "output_type": "execute_result"
    }
   ],
   "source": [
    "# train_data 불러오기\n",
    "data = pd.read_csv('./data/train.csv')\n",
    "data.head()"
   ]
  },
  {
   "cell_type": "code",
   "execution_count": 36,
   "metadata": {},
   "outputs": [
    {
     "data": {
      "text/plain": [
       "[397, 410, 388, 385, 406, 419, 395]"
      ]
     },
     "execution_count": 36,
     "metadata": {},
     "output_type": "execute_result"
    }
   ],
   "source": [
    "## 데이터 분포 확인.\n",
    "label_distribution = []\n",
    "for num in range(7):\n",
    "    cond = data['target'] == num\n",
    "    result = len(data[cond])\n",
    "    label_distribution.append(result)\n",
    "label_distribution\n"
   ]
  },
  {
   "cell_type": "code",
   "execution_count": 37,
   "metadata": {},
   "outputs": [
    {
     "data": {
      "text/html": [
       "<div>\n",
       "<style scoped>\n",
       "    .dataframe tbody tr th:only-of-type {\n",
       "        vertical-align: middle;\n",
       "    }\n",
       "\n",
       "    .dataframe tbody tr th {\n",
       "        vertical-align: top;\n",
       "    }\n",
       "\n",
       "    .dataframe thead th {\n",
       "        text-align: right;\n",
       "    }\n",
       "</style>\n",
       "<table border=\"1\" class=\"dataframe\">\n",
       "  <thead>\n",
       "    <tr style=\"text-align: right;\">\n",
       "      <th></th>\n",
       "      <th>ID</th>\n",
       "      <th>text</th>\n",
       "      <th>target</th>\n",
       "    </tr>\n",
       "  </thead>\n",
       "  <tbody>\n",
       "    <tr>\n",
       "      <th>0</th>\n",
       "      <td>ynat-v1_train_00000</td>\n",
       "      <td>정i :파1 미사z KT( 이용기간 2e 단] Q분종U2보</td>\n",
       "      <td>IT과학</td>\n",
       "    </tr>\n",
       "    <tr>\n",
       "      <th>1</th>\n",
       "      <td>ynat-v1_train_00001</td>\n",
       "      <td>K찰.국DLwo 로L3한N% 회장 2 T0&amp;}송=</td>\n",
       "      <td>사회</td>\n",
       "    </tr>\n",
       "    <tr>\n",
       "      <th>2</th>\n",
       "      <td>ynat-v1_train_00002</td>\n",
       "      <td>m 김정) 자주통일 새,?r열1나가야1보</td>\n",
       "      <td>정치</td>\n",
       "    </tr>\n",
       "  </tbody>\n",
       "</table>\n",
       "</div>"
      ],
      "text/plain": [
       "                    ID                              text target\n",
       "0  ynat-v1_train_00000  정i :파1 미사z KT( 이용기간 2e 단] Q분종U2보   IT과학\n",
       "1  ynat-v1_train_00001       K찰.국DLwo 로L3한N% 회장 2 T0&}송=     사회\n",
       "2  ynat-v1_train_00002            m 김정) 자주통일 새,?r열1나가야1보     정치"
      ]
     },
     "execution_count": 37,
     "metadata": {},
     "output_type": "execute_result"
    }
   ],
   "source": [
    "def mapping_label(df):\n",
    "    # 딕셔너리로 매핑 정의\n",
    "    label_map = {\n",
    "        0:'생활문화',1:'스포츠',2:'정치',3:'사회',4:'IT과학',5:'경제',6:'세계'\n",
    "    }\n",
    "    df['target'] = df['target'].map(label_map)\n",
    "    return df\n",
    "\n",
    "df = mapping_label(data)\n",
    "df.head(3)"
   ]
  },
  {
   "cell_type": "markdown",
   "metadata": {},
   "source": [
    "## 아스키, 영어 및 대문자 관련 비율 확인 진행\n",
    "* 아스키 비율\n",
    "* 아스키 중 영어 비율\n",
    "* 영어 중 대문자 비율\n",
    "* 아스키 중 대문자 비율"
   ]
  },
  {
   "cell_type": "code",
   "execution_count": 38,
   "metadata": {},
   "outputs": [
    {
     "data": {
      "text/html": [
       "<div>\n",
       "<style scoped>\n",
       "    .dataframe tbody tr th:only-of-type {\n",
       "        vertical-align: middle;\n",
       "    }\n",
       "\n",
       "    .dataframe tbody tr th {\n",
       "        vertical-align: top;\n",
       "    }\n",
       "\n",
       "    .dataframe thead th {\n",
       "        text-align: right;\n",
       "    }\n",
       "</style>\n",
       "<table border=\"1\" class=\"dataframe\">\n",
       "  <thead>\n",
       "    <tr style=\"text-align: right;\">\n",
       "      <th></th>\n",
       "      <th>text</th>\n",
       "      <th>ascii_count</th>\n",
       "      <th>is_english_only</th>\n",
       "      <th>is_all_uppercase</th>\n",
       "      <th>ascii_ratio</th>\n",
       "      <th>ascii_uppercase_ratio</th>\n",
       "      <th>english_uppercase_ratio</th>\n",
       "    </tr>\n",
       "  </thead>\n",
       "  <tbody>\n",
       "    <tr>\n",
       "      <th>0</th>\n",
       "      <td>정i :파1 미사z KT( 이용기간 2e 단] Q분종U2보</td>\n",
       "      <td>13</td>\n",
       "      <td>False</td>\n",
       "      <td>False</td>\n",
       "      <td>0.406250</td>\n",
       "      <td>0.307692</td>\n",
       "      <td>0.571429</td>\n",
       "    </tr>\n",
       "    <tr>\n",
       "      <th>1</th>\n",
       "      <td>K찰.국DLwo 로L3한N% 회장 2 T0&amp;}송=</td>\n",
       "      <td>16</td>\n",
       "      <td>False</td>\n",
       "      <td>False</td>\n",
       "      <td>0.592593</td>\n",
       "      <td>0.375000</td>\n",
       "      <td>0.750000</td>\n",
       "    </tr>\n",
       "    <tr>\n",
       "      <th>2</th>\n",
       "      <td>m 김정) 자주통일 새,?r열1나가야1보</td>\n",
       "      <td>7</td>\n",
       "      <td>False</td>\n",
       "      <td>False</td>\n",
       "      <td>0.318182</td>\n",
       "      <td>0.000000</td>\n",
       "      <td>0.000000</td>\n",
       "    </tr>\n",
       "    <tr>\n",
       "      <th>3</th>\n",
       "      <td>갤노트8 주말 27만대 개통 시장은 불법 보조금 얼룩</td>\n",
       "      <td>3</td>\n",
       "      <td>False</td>\n",
       "      <td>False</td>\n",
       "      <td>0.103448</td>\n",
       "      <td>0.000000</td>\n",
       "      <td>0.000000</td>\n",
       "    </tr>\n",
       "    <tr>\n",
       "      <th>4</th>\n",
       "      <td>pI美대선I앞두고 R2fr단 발] $비해 감시 강화</td>\n",
       "      <td>9</td>\n",
       "      <td>False</td>\n",
       "      <td>False</td>\n",
       "      <td>0.321429</td>\n",
       "      <td>0.333333</td>\n",
       "      <td>0.500000</td>\n",
       "    </tr>\n",
       "  </tbody>\n",
       "</table>\n",
       "</div>"
      ],
      "text/plain": [
       "                               text  ascii_count  is_english_only  \\\n",
       "0  정i :파1 미사z KT( 이용기간 2e 단] Q분종U2보           13            False   \n",
       "1       K찰.국DLwo 로L3한N% 회장 2 T0&}송=           16            False   \n",
       "2            m 김정) 자주통일 새,?r열1나가야1보            7            False   \n",
       "3     갤노트8 주말 27만대 개통 시장은 불법 보조금 얼룩            3            False   \n",
       "4      pI美대선I앞두고 R2fr단 발] $비해 감시 강화            9            False   \n",
       "\n",
       "   is_all_uppercase  ascii_ratio  ascii_uppercase_ratio  \\\n",
       "0             False     0.406250               0.307692   \n",
       "1             False     0.592593               0.375000   \n",
       "2             False     0.318182               0.000000   \n",
       "3             False     0.103448               0.000000   \n",
       "4             False     0.321429               0.333333   \n",
       "\n",
       "   english_uppercase_ratio  \n",
       "0                 0.571429  \n",
       "1                 0.750000  \n",
       "2                 0.000000  \n",
       "3                 0.000000  \n",
       "4                 0.500000  "
      ]
     },
     "execution_count": 38,
     "metadata": {},
     "output_type": "execute_result"
    }
   ],
   "source": [
    "## 현재 문장에서 ascii의 비율과, ascii의 비율 중 영어와 대문자가 있는 경우에 대한 확인.\n",
    "def calculate_ascii(text):\n",
    "    # 공백을 제외한 ASCII 문자들\n",
    "    ascii_chars = [char for char in text if ord(char) < 128 and not char.isspace()]\n",
    "    ascii_count = len(ascii_chars)\n",
    "    ascii_ratio = ascii_count / len(text)\n",
    "\n",
    "    # ASCII 문자들 중 영어 문자만 추출\n",
    "    english_chars = [char for char in ascii_chars if char.isalpha()]\n",
    "    has_english = len(english_chars) > 0\n",
    "    \n",
    "    # 영어 관련 체크\n",
    "    is_english_only = all(char.isalpha() for char in ascii_chars) if has_english else False\n",
    "    \n",
    "    # 대문자 관련 계산\n",
    "    is_all_uppercase = all(char.isupper() for char in english_chars) if has_english else False\n",
    "    \n",
    "    # ASCII 문자 중 대문자 비율\n",
    "    ascii_uppercase_count = sum(1 for char in ascii_chars if char.isupper())\n",
    "    ascii_uppercase_ratio = ascii_uppercase_count / len(ascii_chars) if ascii_chars else 0\n",
    "    \n",
    "    # 영어 문자 중 대문자 비율\n",
    "    english_uppercase_count = sum(1 for char in english_chars if char.isupper())\n",
    "    english_uppercase_ratio = english_uppercase_count / len(english_chars) if english_chars else 0\n",
    "    \n",
    "    return ascii_count, is_english_only, is_all_uppercase, ascii_ratio, ascii_uppercase_ratio, english_uppercase_ratio\n",
    "\n",
    "df['text'] = df['text'].str.replace('…', ' ', regex=False)\n",
    "df['text'] = df['text'].str.replace('...', ' ', regex=False)\n",
    "df['text'] = df['text'].str.replace('·', ' ', regex=False)\n",
    "df['length'] = df['text'].map(len)\n",
    "df['ascii_count'], df['is_english_only'], df['is_all_uppercase'], df['ascii_ratio'], df['ascii_uppercase_ratio'], df['english_uppercase_ratio'] = zip(*df['text'].apply(calculate_ascii))\n",
    "\n",
    "# 결과 확인\n",
    "df[['text', 'ascii_count', 'is_english_only', 'is_all_uppercase', 'ascii_ratio', 'ascii_uppercase_ratio', 'english_uppercase_ratio']].head()"
   ]
  },
  {
   "cell_type": "markdown",
   "metadata": {},
   "source": [
    "## 서현이 처리 추가\n",
    "* 특수 기호의 개수 세는 함수 사용\n",
    "* 특수 기호의 개수 및 전체 길이중 특수 기호의 비율 확인\n"
   ]
  },
  {
   "cell_type": "code",
   "execution_count": 39,
   "metadata": {},
   "outputs": [
    {
     "data": {
      "text/html": [
       "<div>\n",
       "<style scoped>\n",
       "    .dataframe tbody tr th:only-of-type {\n",
       "        vertical-align: middle;\n",
       "    }\n",
       "\n",
       "    .dataframe tbody tr th {\n",
       "        vertical-align: top;\n",
       "    }\n",
       "\n",
       "    .dataframe thead th {\n",
       "        text-align: right;\n",
       "    }\n",
       "</style>\n",
       "<table border=\"1\" class=\"dataframe\">\n",
       "  <thead>\n",
       "    <tr style=\"text-align: right;\">\n",
       "      <th></th>\n",
       "      <th>ID</th>\n",
       "      <th>text</th>\n",
       "      <th>target</th>\n",
       "      <th>length</th>\n",
       "      <th>ascii_count</th>\n",
       "      <th>is_english_only</th>\n",
       "      <th>is_all_uppercase</th>\n",
       "      <th>ascii_ratio</th>\n",
       "      <th>ascii_uppercase_ratio</th>\n",
       "      <th>english_uppercase_ratio</th>\n",
       "      <th>special_char_count</th>\n",
       "      <th>special_char_ratio</th>\n",
       "    </tr>\n",
       "  </thead>\n",
       "  <tbody>\n",
       "    <tr>\n",
       "      <th>0</th>\n",
       "      <td>ynat-v1_train_00000</td>\n",
       "      <td>정i :파1 미사z KT( 이용기간 2e 단] Q분종U2보</td>\n",
       "      <td>IT과학</td>\n",
       "      <td>32</td>\n",
       "      <td>13</td>\n",
       "      <td>False</td>\n",
       "      <td>False</td>\n",
       "      <td>0.406250</td>\n",
       "      <td>0.307692</td>\n",
       "      <td>0.571429</td>\n",
       "      <td>6</td>\n",
       "      <td>0.187500</td>\n",
       "    </tr>\n",
       "    <tr>\n",
       "      <th>1</th>\n",
       "      <td>ynat-v1_train_00001</td>\n",
       "      <td>K찰.국DLwo 로L3한N% 회장 2 T0&amp;}송=</td>\n",
       "      <td>사회</td>\n",
       "      <td>27</td>\n",
       "      <td>16</td>\n",
       "      <td>False</td>\n",
       "      <td>False</td>\n",
       "      <td>0.592593</td>\n",
       "      <td>0.375000</td>\n",
       "      <td>0.750000</td>\n",
       "      <td>7</td>\n",
       "      <td>0.259259</td>\n",
       "    </tr>\n",
       "  </tbody>\n",
       "</table>\n",
       "</div>"
      ],
      "text/plain": [
       "                    ID                              text target  length  \\\n",
       "0  ynat-v1_train_00000  정i :파1 미사z KT( 이용기간 2e 단] Q분종U2보   IT과학      32   \n",
       "1  ynat-v1_train_00001       K찰.국DLwo 로L3한N% 회장 2 T0&}송=     사회      27   \n",
       "\n",
       "   ascii_count  is_english_only  is_all_uppercase  ascii_ratio  \\\n",
       "0           13            False             False     0.406250   \n",
       "1           16            False             False     0.592593   \n",
       "\n",
       "   ascii_uppercase_ratio  english_uppercase_ratio  special_char_count  \\\n",
       "0               0.307692                 0.571429                   6   \n",
       "1               0.375000                 0.750000                   7   \n",
       "\n",
       "   special_char_ratio  \n",
       "0            0.187500  \n",
       "1            0.259259  "
      ]
     },
     "execution_count": 39,
     "metadata": {},
     "output_type": "execute_result"
    }
   ],
   "source": [
    "special_char_pattern = r'(?<!\\d)\\.(?!\\d)|(?<!\\d)%|[^가-힣A-Z\\u4E00-\\u9FFF\\s0-9\\.%㎜㎡]'\n",
    "\n",
    "# 각 text에 포함된 특수 기호의 개수를 세는 함수 정의\n",
    "def count_special_characters(text):\n",
    "    return len(re.findall(special_char_pattern, text))\n",
    "\n",
    "# 데이터프레임에 새로운 열 추가\n",
    "df['special_char_count'] = df['text'].apply(count_special_characters)\n",
    "df['special_char_ratio'] = df['special_char_count'] / df['text'].str.len()\n",
    "df.head(2)"
   ]
  },
  {
   "cell_type": "markdown",
   "metadata": {},
   "source": [
    "## 채은이 과정 추가\n",
    "* r가d나d다 3\n",
    "* r가dd다 2\n",
    "* rdd다 1"
   ]
  },
  {
   "cell_type": "code",
   "execution_count": 40,
   "metadata": {},
   "outputs": [
    {
     "data": {
      "text/html": [
       "<div>\n",
       "<style scoped>\n",
       "    .dataframe tbody tr th:only-of-type {\n",
       "        vertical-align: middle;\n",
       "    }\n",
       "\n",
       "    .dataframe tbody tr th {\n",
       "        vertical-align: top;\n",
       "    }\n",
       "\n",
       "    .dataframe thead th {\n",
       "        text-align: right;\n",
       "    }\n",
       "</style>\n",
       "<table border=\"1\" class=\"dataframe\">\n",
       "  <thead>\n",
       "    <tr style=\"text-align: right;\">\n",
       "      <th></th>\n",
       "      <th>ID</th>\n",
       "      <th>text</th>\n",
       "      <th>target</th>\n",
       "      <th>length</th>\n",
       "      <th>ascii_count</th>\n",
       "      <th>is_english_only</th>\n",
       "      <th>is_all_uppercase</th>\n",
       "      <th>ascii_ratio</th>\n",
       "      <th>ascii_uppercase_ratio</th>\n",
       "      <th>english_uppercase_ratio</th>\n",
       "      <th>special_char_count</th>\n",
       "      <th>special_char_ratio</th>\n",
       "      <th>english_count</th>\n",
       "    </tr>\n",
       "  </thead>\n",
       "  <tbody>\n",
       "    <tr>\n",
       "      <th>0</th>\n",
       "      <td>ynat-v1_train_00000</td>\n",
       "      <td>정i :파1 미사z KT( 이용기간 2e 단] Q분종U2보</td>\n",
       "      <td>IT과학</td>\n",
       "      <td>32</td>\n",
       "      <td>13</td>\n",
       "      <td>False</td>\n",
       "      <td>False</td>\n",
       "      <td>0.40625</td>\n",
       "      <td>0.307692</td>\n",
       "      <td>0.571429</td>\n",
       "      <td>6</td>\n",
       "      <td>0.1875</td>\n",
       "      <td>6</td>\n",
       "    </tr>\n",
       "  </tbody>\n",
       "</table>\n",
       "</div>"
      ],
      "text/plain": [
       "                    ID                              text target  length  \\\n",
       "0  ynat-v1_train_00000  정i :파1 미사z KT( 이용기간 2e 단] Q분종U2보   IT과학      32   \n",
       "\n",
       "   ascii_count  is_english_only  is_all_uppercase  ascii_ratio  \\\n",
       "0           13            False             False      0.40625   \n",
       "\n",
       "   ascii_uppercase_ratio  english_uppercase_ratio  special_char_count  \\\n",
       "0               0.307692                 0.571429                   6   \n",
       "\n",
       "   special_char_ratio  english_count  \n",
       "0              0.1875              6  "
      ]
     },
     "execution_count": 40,
     "metadata": {},
     "output_type": "execute_result"
    }
   ],
   "source": [
    "df['english_count'] = df['text'].str.findall(r'[A-Za-z]+').str.len()\n",
    "df.head(1)"
   ]
  },
  {
   "cell_type": "code",
   "execution_count": 41,
   "metadata": {},
   "outputs": [
    {
     "name": "stdout",
     "output_type": "stream",
     "text": [
      "<class 'pandas.core.frame.DataFrame'>\n",
      "RangeIndex: 2800 entries, 0 to 2799\n",
      "Data columns (total 13 columns):\n",
      " #   Column                   Non-Null Count  Dtype  \n",
      "---  ------                   --------------  -----  \n",
      " 0   ID                       2800 non-null   object \n",
      " 1   text                     2800 non-null   object \n",
      " 2   target                   2800 non-null   object \n",
      " 3   length                   2800 non-null   int64  \n",
      " 4   ascii_count              2800 non-null   int64  \n",
      " 5   is_english_only          2800 non-null   bool   \n",
      " 6   is_all_uppercase         2800 non-null   bool   \n",
      " 7   ascii_ratio              2800 non-null   float64\n",
      " 8   ascii_uppercase_ratio    2800 non-null   float64\n",
      " 9   english_uppercase_ratio  2800 non-null   float64\n",
      " 10  special_char_count       2800 non-null   int64  \n",
      " 11  special_char_ratio       2800 non-null   float64\n",
      " 12  english_count            2800 non-null   int64  \n",
      "dtypes: bool(2), float64(4), int64(4), object(3)\n",
      "memory usage: 246.2+ KB\n"
     ]
    }
   ],
   "source": [
    "df.info()"
   ]
  },
  {
   "cell_type": "markdown",
   "metadata": {},
   "source": [
    "## Clustering 진행"
   ]
  },
  {
   "cell_type": "code",
   "execution_count": 10,
   "metadata": {},
   "outputs": [
    {
     "data": {
      "text/plain": [
       "Index(['ID', 'text', 'target', 'length', 'ascii_count', 'is_english_only',\n",
       "       'is_all_uppercase', 'ascii_ratio', 'ascii_uppercase_ratio',\n",
       "       'english_uppercase_ratio', 'special_char_count', 'special_char_ratio',\n",
       "       'english_count'],\n",
       "      dtype='object')"
      ]
     },
     "execution_count": 10,
     "metadata": {},
     "output_type": "execute_result"
    }
   ],
   "source": [
    "df.columns"
   ]
  },
  {
   "cell_type": "code",
   "execution_count": null,
   "metadata": {},
   "outputs": [],
   "source": [
    "# 1. 특성 구분\n",
    "binary_features = ['is_english_ascii', 'is_all_uppercase', 'is_english_only']\n",
    "numeric_features = ['ascii_count', 'ascii_ratio', 'uppercase_ratio', \n",
    "                   'ascii_uppercase_ratio', 'english_uppercase_ratio', \n",
    "                   'special_char_count', 'special_char_ratio', 'english_count']\n",
    "\n",
    "\n",
    "# 2. 데이터 전처리\n",
    "X_binary = df[binary_features].astype(int)\n",
    "scaler = StandardScaler()\n",
    "X_numeric = pd.DataFrame(scaler.fit_transform(df[numeric_features]), \n",
    "                        columns=numeric_features)\n",
    "X = pd.concat([X_numeric, X_binary], axis=1)\n",
    "\n",
    "# 2. 최적의 eps 값 찾기\n",
    "nearest_neighbors = NearestNeighbors(n_neighbors=2)\n",
    "neighbors = nearest_neighbors.fit(X)\n",
    "distances, indices = neighbors.kneighbors(X)\n",
    "distances = np.sort(distances[:, 1])\n",
    "\n",
    "plt.figure(figsize=(10, 5))\n",
    "plt.plot(range(len(distances)), distances)\n",
    "plt.title('K-distance Graph')\n",
    "plt.xlabel('Data Points sorted by distance')\n",
    "plt.ylabel('Epsilon')\n",
    "plt.show()\n",
    "dbscan = DBSCAN(eps=0.649728, min_samples=2)  # eps 값은 그래프를 보고 조정할 수 있습니다\n",
    "df['predicted_binary'] = dbscan.fit_predict(X)\n",
    "if -1 in df['predicted_binary'].unique():\n",
    "    for idx in df[df['predicted_binary'] == -1].index:\n",
    "        # 가장 가까운 non-noise 포인트의 클러스터로 할당\n",
    "        non_noise_mask = df['predicted_binary'] != -1\n",
    "        if non_noise_mask.any():\n",
    "            distances = np.sqrt(((X.loc[idx] - X[non_noise_mask]) ** 2).sum(axis=1))\n",
    "            nearest_cluster = df['predicted_binary'][non_noise_mask].iloc[distances.argmin()]\n",
    "            df.loc[idx, 'predicted_binary'] = nearest_cluster\n",
    "\n",
    "# 4. 클러스터 레이블 조정 (0, 1로 매핑)\n",
    "unique_labels = df['predicted_binary'].unique()\n",
    "if len(unique_labels) > 2:\n",
    "    # 2개 이상의 클러스터가 생긴 경우, 가장 큰 2개의 클러스터만 사용\n",
    "    value_counts = df['predicted_binary'].value_counts()\n",
    "    main_clusters = value_counts.nlargest(2).index\n",
    "    df['predicted_binary'] = df['predicted_binary'].map(\n",
    "        {main_clusters[0]: 0, main_clusters[1]: 1}\n",
    "    )\n",
    "# 4. 결과 확인 \n",
    "#df['predicted_binary'] = df['predicted_binary'].fillna(1).astype(int)\n",
    "df['predicted_binary'].value_counts()"
   ]
  },
  {
   "cell_type": "code",
   "execution_count": null,
   "metadata": {},
   "outputs": [],
   "source": [
    "cond = df['predicted_binary'] == 0\n",
    "texts_with_1 = df[cond]['text']\n",
    "# 랜덤하게 200개 추출 후 사용\n",
    "sampled_texts = texts_with_1.sample(n=min(200, len(texts_with_1)), random_state=42)\n",
    "for idx, text in enumerate(sampled_texts, 1):\n",
    "    print(f\"{idx:3d}. Length: {len(text):4d} | Text: {text[:200]}{'...' if len(text) > 200 else ''}\")\n",
    "    if idx % 10 == 0:  # 10개마다 구분선 추가\n",
    "        print('-' * 100)"
   ]
  },
  {
   "cell_type": "code",
   "execution_count": null,
   "metadata": {},
   "outputs": [],
   "source": [
    "numeric_features = ['ascii_count', 'ascii_ratio', 'uppercase_ratio', \n",
    "                   'ascii_uppercase_ratio', 'english_uppercase_ratio', \n",
    "                   'special_char_count', 'special_char_ratio', 'english_count']\n",
    "\n",
    "\n",
    "# 2. 데이터 전처리\n",
    "scaler = StandardScaler()\n",
    "X = pd.DataFrame(scaler.fit_transform(df[numeric_features]), \n",
    "                        columns=numeric_features)\n",
    "kmeans = KMeans(n_clusters=3, random_state=42)\n",
    "clusters = kmeans.fit_predict(X)\n",
    "df['clusters_results'] = clusters\n",
    "print(df['clusters_results'].value_counts())"
   ]
  },
  {
   "cell_type": "code",
   "execution_count": null,
   "metadata": {},
   "outputs": [],
   "source": [
    "cond = df['clusters_results'] == 2\n",
    "texts_with_1 = df[cond]['text']\n",
    "# 랜덤하게 200개 추출 후 사용\n",
    "sampled_texts = texts_with_1.sample(n=min(200, len(texts_with_1)), random_state=42)\n",
    "for idx, text in enumerate(sampled_texts, 1):\n",
    "    print(f\"{idx:3d}. Length: {len(text):4d} | Text: {text[:200]}{'...' if len(text) > 200 else ''}\")\n",
    "    if idx % 10 == 0:  # 10개마다 구분선 추가\n",
    "        print('-' * 100)"
   ]
  },
  {
   "cell_type": "markdown",
   "metadata": {},
   "source": [
    "## Clustering  포기\n",
    "* 1400개 정도에 대한 구분은 완벽하지만 200개에 대한 탐지가 거의 불가능\n",
    "* 순수 손으로 진행."
   ]
  },
  {
   "cell_type": "code",
   "execution_count": null,
   "metadata": {},
   "outputs": [],
   "source": [
    "features = ['ascii_count', 'ascii_ratio', 'uppercase_ratio', \n",
    "            'ascii_uppercase_ratio', 'english_uppercase_ratio', \n",
    "            'special_char_count', 'special_char_ratio', 'english_count']"
   ]
  },
  {
   "cell_type": "code",
   "execution_count": 60,
   "metadata": {},
   "outputs": [
    {
     "name": "stdout",
     "output_type": "stream",
     "text": [
      "\n",
      "Selected records: 1543\n"
     ]
    }
   ],
   "source": [
    "final_conditions = (\n",
    "    (df['ascii_ratio'] >= 0.15) & \n",
    "    (df['special_char_ratio'] >= 0.030) &\n",
    "    (df['english_count'] >= 2) \n",
    "    #(df['ascii_uppercase_ratio'] <= 0.8) \n",
    ")\n",
    "\n",
    "df['result'] = final_conditions\n",
    "print(f\"\\nSelected records: {len(df[final_conditions])}\")\n"
   ]
  },
  {
   "cell_type": "code",
   "execution_count": null,
   "metadata": {},
   "outputs": [],
   "source": [
    "cond = df['result'] == True\n",
    "texts_with_1 = df[cond]['text']\n",
    "# 랜덤하게 200개 추출 후 출력\n",
    "sampled_texts = texts_with_1.sample(n=min(200, len(texts_with_1)), random_state=42)\n",
    "for idx, text in enumerate(sampled_texts, 1):\n",
    "    print(f\"Text: {text[:200]}{'...' if len(text) > 200 else ''}\")\n",
    "    if idx % 10 == 0:  # 10개마다 구분선 추가\n",
    "        print('-' * 100)"
   ]
  },
  {
   "cell_type": "code",
   "execution_count": 54,
   "metadata": {},
   "outputs": [
    {
     "data": {
      "text/plain": [
       "(1543,\n",
       " Index(['ID', 'text', 'target', 'length', 'ascii_count', 'is_english_only',\n",
       "        'is_all_uppercase', 'ascii_ratio', 'ascii_uppercase_ratio',\n",
       "        'english_uppercase_ratio', 'special_char_count', 'special_char_ratio',\n",
       "        'english_count', 'result'],\n",
       "       dtype='object'))"
      ]
     },
     "execution_count": 54,
     "metadata": {},
     "output_type": "execute_result"
    }
   ],
   "source": [
    "cond = df['result'] == True\n",
    "df_ascii = df[cond]\n",
    "len(df_ascii), df_ascii.columns"
   ]
  },
  {
   "cell_type": "code",
   "execution_count": 55,
   "metadata": {},
   "outputs": [],
   "source": [
    "df_ascii = df_ascii[['ID', 'text', 'target']]"
   ]
  },
  {
   "cell_type": "code",
   "execution_count": 56,
   "metadata": {},
   "outputs": [],
   "source": [
    "df_ascii.to_csv('ascii.csv')"
   ]
  },
  {
   "cell_type": "code",
   "execution_count": null,
   "metadata": {},
   "outputs": [],
   "source": []
  }
 ],
 "metadata": {
  "kernelspec": {
   "display_name": "level2_datacentric",
   "language": "python",
   "name": "python3"
  },
  "language_info": {
   "codemirror_mode": {
    "name": "ipython",
    "version": 3
   },
   "file_extension": ".py",
   "mimetype": "text/x-python",
   "name": "python",
   "nbconvert_exporter": "python",
   "pygments_lexer": "ipython3",
   "version": "3.12.1"
  }
 },
 "nbformat": 4,
 "nbformat_minor": 2
}
