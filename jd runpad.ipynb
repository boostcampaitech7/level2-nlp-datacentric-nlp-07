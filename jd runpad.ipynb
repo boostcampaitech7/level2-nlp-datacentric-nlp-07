{
 "cells": [
  {
   "cell_type": "code",
   "execution_count": null,
   "metadata": {},
   "outputs": [],
   "source": [
    "import os\n",
    "import pandas as pd\n",
    "\n",
    "from . import filter\n",
    "from . import basemodel\n",
    "\n",
    "from basemodel.constants import *"
   ]
  },
  {
   "cell_type": "markdown",
   "metadata": {},
   "source": [
    "## 데이터 처리"
   ]
  },
  {
   "cell_type": "code",
   "execution_count": null,
   "metadata": {},
   "outputs": [],
   "source": [
    "# 영독재 \n",
    "origin_df = pd.read_csv(os.path.join(DATA_DIR, 'df_eng_ger_combined.csv'))\n",
    "\n",
    "# 리라벨링 된 noise_free\n",
    "merging_df = pd.read_csv(os.path.join(DATA_DIR, 'relabeled_by_noisymodel.csv'))\n"
   ]
  },
  {
   "cell_type": "code",
   "execution_count": null,
   "metadata": {},
   "outputs": [],
   "source": [
    "target_plot(merging_df)\n",
    "\n",
    "\n",
    "# 'target' 컬럼에서 가장 많이 등장하는 값 찾기\n",
    "most_frequent_value = merging_df['target'].value_counts().idxmax()\n",
    "\n",
    "# 해당 라벨을 가진 행 삭제\n",
    "merging_df = merging_df[merging_df['target'] != most_frequent_value]\n",
    "\n",
    "print(merging_df)"
   ]
  },
  {
   "cell_type": "code",
   "execution_count": null,
   "metadata": {},
   "outputs": [],
   "source": [
    "df_combined = pd.concat([origin_df, merging_df],ignore_index=True)"
   ]
  },
  {
   "cell_type": "code",
   "execution_count": null,
   "metadata": {},
   "outputs": [],
   "source": [
    "print_df(df_combined)"
   ]
  },
  {
   "cell_type": "markdown",
   "metadata": {},
   "source": [
    "## 학습"
   ]
  },
  {
   "cell_type": "code",
   "execution_count": null,
   "metadata": {},
   "outputs": [],
   "source": [
    "basic_model = Model()\n",
    "\n",
    "# 노이즈 제거 데이터 학습\n",
    "train_data = df_combined\n",
    "dataset_test = pd.read_csv(os.path.join(DATA_DIR, 'test.csv'))\n",
    "\n",
    "basic_model.train(train_data)\n",
    "basic_model.evaluate(dataset_test)"
   ]
  },
  {
   "cell_type": "code",
   "execution_count": null,
   "metadata": {},
   "outputs": [],
   "source": [
    "# 비 노이즈 트레인데이터(노이즈 생성됨)\n",
    "basic_model.evaluate(pd.read_csv(os.path.join(DATA_DIR, 'noise_free.csv')))"
   ]
  },
  {
   "cell_type": "code",
   "execution_count": null,
   "metadata": {},
   "outputs": [],
   "source": []
  },
  {
   "cell_type": "markdown",
   "metadata": {},
   "source": [
    "## 결과 평가"
   ]
  },
  {
   "cell_type": "code",
   "execution_count": null,
   "metadata": {},
   "outputs": [],
   "source": [
    "import matplotlib.pyplot as plt\n",
    "import seaborn as sns\n",
    "import pandas as pd\n",
    "\n",
    "#매핑 함수\n",
    "def mapping_label(df):\n",
    "    # 딕셔너리로 매핑 정의\n",
    "    label_map = {\n",
    "        0:'생활문화',1:'스포츠',2:'정치',3:'사회',4:'IT과학',5:'경제',6:'세계'\n",
    "    }\n",
    "    \n",
    "    # map 함수를 사용하여 변환\n",
    "    df['target'] = df['target'].map(label_map)\n",
    "    \n",
    "    return df\n",
    "\n",
    "#데이터 프레임 정보 출력\n",
    "def print_df(df):\n",
    "    print(df.info())\n",
    "    print(df.describe())\n",
    "    print(df.head())\n",
    "    \n",
    "def target_plot(df, name:str = 'DF'):\n",
    "    target_counts = df['target'].value_counts().sort_index()\n",
    "    #print(target_counts)\n",
    "    print('target var: ', target_counts.var())\n",
    "    \n",
    "    # 시각화\n",
    "    plt.figure(figsize=(10, 6))\n",
    "    sns.barplot(x=target_counts.index, y=target_counts.values, hue=target_counts.index, palette='viridis')\n",
    "    plt.title(f\"{name}'s Count of Each Target Value\")\n",
    "    plt.xlabel('Target Value')\n",
    "    plt.ylabel('Count')\n",
    "    plt.xticks(range(0, 7))  # target의 범위에 맞춰 x축 값 설정\n",
    "    plt.show()    \n",
    "    \n",
    "def print_targets(df):\n",
    "    # target 값에 따라 데이터프레임 정렬\n",
    "    df = df.sort_values(by='target')\n",
    "\n",
    "    # 각 target 값에 대해 샘플 출력\n",
    "    target_values = df['target'].unique()\n",
    "\n",
    "    for target in target_values:\n",
    "        print(f\"Target: {target}\")\n",
    "        samples = df[df['target'] == target].sample(n=10, random_state=42)\n",
    "        display(samples)  # Jupyter Notebook에서 DataFrame을 보기 좋게 출력"
   ]
  },
  {
   "cell_type": "code",
   "execution_count": null,
   "metadata": {},
   "outputs": [],
   "source": [
    "df = pd.read_csv(os.path.join(OUTPUT_DIR, 'output_basic_20241107_053724.csv'))\n",
    "target_plot(df)"
   ]
  },
  {
   "cell_type": "code",
   "execution_count": null,
   "metadata": {},
   "outputs": [],
   "source": [
    "print_targets(df)"
   ]
  }
 ],
 "metadata": {
  "kernelspec": {
   "display_name": "base",
   "language": "python",
   "name": "python3"
  },
  "language_info": {
   "codemirror_mode": {
    "name": "ipython",
    "version": 3
   },
   "file_extension": ".py",
   "mimetype": "text/x-python",
   "name": "python",
   "nbconvert_exporter": "python",
   "pygments_lexer": "ipython3",
   "version": "3.10.13"
  }
 },
 "nbformat": 4,
 "nbformat_minor": 2
}
