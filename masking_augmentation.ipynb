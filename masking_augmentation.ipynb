{
 "cells": [
  {
   "cell_type": "code",
   "execution_count": 1,
   "metadata": {},
   "outputs": [
    {
     "name": "stderr",
     "output_type": "stream",
     "text": [
      "/Users/chan/.pyenv/versions/data-centric-NLP/lib/python3.10/site-packages/tqdm/auto.py:21: TqdmWarning: IProgress not found. Please update jupyter and ipywidgets. See https://ipywidgets.readthedocs.io/en/stable/user_install.html\n",
      "  from .autonotebook import tqdm as notebook_tqdm\n"
     ]
    }
   ],
   "source": [
    "from utils import BertBaseAugmentation\n",
    "import pandas as pd"
   ]
  },
  {
   "cell_type": "code",
   "execution_count": 2,
   "metadata": {},
   "outputs": [
    {
     "name": "stderr",
     "output_type": "stream",
     "text": [
      "/Users/chan/.pyenv/versions/data-centric-NLP/lib/python3.10/site-packages/torch/_utils.py:831: UserWarning: TypedStorage is deprecated. It will be removed in the future and UntypedStorage will be the only storage class. This should only matter to you if you are using storages directly.  To access UntypedStorage directly, use tensor.untyped_storage() instead of tensor.storage()\n",
      "  return self.fget.__get__(instance, owner)()\n"
     ]
    }
   ],
   "source": [
    "augmenter = BertBaseAugmentation()\n",
    "file_path = 'data/clean_ascii.csv'\n",
    "df = pd.read_csv(file_path)\n",
    "\n",
    "text_column = 'text'\n",
    "augmentation_multiplier = 20     # 증강 배수"
   ]
  },
  {
   "cell_type": "code",
   "execution_count": null,
   "metadata": {},
   "outputs": [],
   "source": [
    "# 증강된 데이터를 저장할 리스트\n",
    "augmented_data = []\n",
    "\n",
    "for index, row in df.iterrows():\n",
    "    original_text = row[text_column]\n",
    "    augmented_texts, _ = augmenter.augment(original_text, aug_num=augmentation_multiplier)\n",
    "    for augmented_text in augmented_texts:\n",
    "        new_row = row.copy()\n",
    "        new_row[text_column] = augmented_text\n",
    "        augmented_data.append(new_row)\n",
    "        \n",
    "len(augmented_data)"
   ]
  },
  {
   "cell_type": "code",
   "execution_count": null,
   "metadata": {},
   "outputs": [],
   "source": [
    "# Create a new DataFrame with augmented data\n",
    "augmented_df = pd.DataFrame(augmented_data)\n",
    "\n",
    "new_file_name = f\"{file_path}+{augmentation_multiplier}_times_augmentation.csv\"\n",
    "augmented_df.to_csv(new_file_name, index=False)"
   ]
  }
 ],
 "metadata": {
  "kernelspec": {
   "display_name": "data-centric-NLP",
   "language": "python",
   "name": "python3"
  },
  "language_info": {
   "codemirror_mode": {
    "name": "ipython",
    "version": 3
   },
   "file_extension": ".py",
   "mimetype": "text/x-python",
   "name": "python",
   "nbconvert_exporter": "python",
   "pygments_lexer": "ipython3",
   "version": "3.10.15"
  }
 },
 "nbformat": 4,
 "nbformat_minor": 2
}
