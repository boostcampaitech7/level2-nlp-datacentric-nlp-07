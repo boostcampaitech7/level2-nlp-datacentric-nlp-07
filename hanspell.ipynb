{
 "cells": [
  {
   "cell_type": "code",
   "execution_count": null,
   "metadata": {},
   "outputs": [],
   "source": [
    "from hanspell import spell_checker\n",
    "\n",
    "text = \"정i :파1 미사z KT( 이용기간 2e 단] Q분종U2보\"\n",
    "result = spell_checker.check(text)\n",
    "corrected_text = result.checked\n",
    "print(corrected_text)  # 출력: 정파 미사 KT 이용 기간 2e 단 Q분종 보\n"
   ]
  },
  {
   "cell_type": "code",
   "execution_count": 2,
   "metadata": {},
   "outputs": [
    {
     "name": "stdout",
     "output_type": "stream",
     "text": [
      "                       ID                               text  \\\n",
      "0     ynat-v1_train_00000   정i :파1 미사z KT( 이용기간 2e 단] Q분종U2보   \n",
      "1     ynat-v1_train_00001        K찰.국DLwo 로L3한N% 회장 2 T0&}송=   \n",
      "2     ynat-v1_train_00002             m 김정) 자주통일 새,?r열1나가야1보   \n",
      "3     ynat-v1_train_00003      갤노트8 주말 27만대 개통…시장은 불법 보조금 얼룩   \n",
      "4     ynat-v1_train_00004       pI美대선I앞두고 R2fr단 발] $비해 감시 강화   \n",
      "...                   ...                                ...   \n",
      "2795  ynat-v1_train_02795  트럼프 폭스뉴스 앵커들 충성도 점수매겨…10점만점에 12점도   \n",
      "2796  ynat-v1_train_02796        삼성 갤럭시S9 정식 출시 첫 주말 이통시장 잠잠   \n",
      "2797  ynat-v1_train_02797   텔레그램+한D 등h亞서 2시간H다운…C버T정gf39종!2보   \n",
      "2798  ynat-v1_train_02798    인터뷰 류현진 친구에게 안타 맞는 것 싫어해…승부는 냉정   \n",
      "2799  ynat-v1_train_02799               지능정보사회 대비 국가 종합대책 마련   \n",
      "\n",
      "                                 corrected_text  target  \n",
      "0        정i : 파 1 미사z KT( 이 용 기간 2e 단] Q 분종 U2보       4  \n",
      "1                K찰.국DLwo 로 L3 한 N% 회장 2 T0&}송=       3  \n",
      "2                     m 김정) 자주통일 새, ? r열1나가야 1보       2  \n",
      "3               갤노트8 주말 27만대 개통 … 시장은 불법 보조금 얼룩       5  \n",
      "4              pI美 대선 I 앞두고 R2f r단 발] $비해 감시 강화       6  \n",
      "...                                         ...     ...  \n",
      "2795       트럼프 폭스뉴스 앵커들 충성도 점수 매겨… 10점 만점에 12점도       6  \n",
      "2796               삼성 갤럭시S9 정식 출시 첫 주말 이 통시장 잠잠       2  \n",
      "2797  텔레그램+한 D 등 h 亞서 2시간 H다운… C버 T정 gf 39종 !2보       4  \n",
      "2798          인터뷰 류현진 친구에게 안타 맞는 것 싫어해 … 승부는 냉정       1  \n",
      "2799                       지능정보사회 대비 국가 종합대책 마련       4  \n",
      "\n",
      "[2800 rows x 4 columns]\n"
     ]
    }
   ],
   "source": [
    "import pandas as pd\n",
    "from pykospacing import Spacing\n",
    "\n",
    "# CSV 파일 경로\n",
    "csv_file_path = './data/train.csv'\n",
    "\n",
    "# CSV 파일 읽기\n",
    "data = pd.read_csv(csv_file_path)\n",
    "\n",
    "# 오타 교정 함수 정의\n",
    "def correct_text(text):\n",
    "    # 여기에 원하는 오타 교정 모델이나 방법을 추가\n",
    "    # 현재는 띄어쓰기 교정만 수행\n",
    "    spacing = Spacing()\n",
    "    corrected_text = spacing(text)\n",
    "    return corrected_text\n",
    "\n",
    "# 오타 교정 적용\n",
    "data['corrected_text'] = data['text'].apply(correct_text)\n",
    "\n",
    "# 교정된 데이터 출력\n",
    "print(data[['ID', 'text', 'corrected_text', 'target']])\n"
   ]
  },
  {
   "cell_type": "code",
   "execution_count": null,
   "metadata": {},
   "outputs": [],
   "source": [
    "import pandas as pd\n",
    "import hunspell\n",
    "\n",
    "# Hunspell 초기화\n",
    "h = hunspell.HunSpell('/usr/share/hunspell/ko.dic', '/usr/share/hunspell/ko.aff')\n",
    "\n",
    "# CSV 파일 읽기\n",
    "data = pd.read_csv('path_to_your_file.csv')\n",
    "\n",
    "# 오타 교정 함수 정의\n",
    "def correct_text(text):\n",
    "    words = text.split()\n",
    "    corrected_words = []\n",
    "    for word in words:\n",
    "        if h.spell(word):\n",
    "            corrected_words.append(word)\n",
    "        else:\n",
    "            suggestions = h.suggest(word)\n",
    "            corrected_words.append(suggestions[0] if suggestions else word)  # 첫 번째 제안 사용\n",
    "    return ' '.join(corrected_words)\n",
    "\n",
    "# 오타 교정 적용\n",
    "data['corrected_text'] = data['text'].apply(correct_text)\n",
    "\n",
    "# 교정된 데이터 출력\n",
    "print(data[['ID', 'text', 'corrected_text']])\n"
   ]
  }
 ],
 "metadata": {
  "kernelspec": {
   "display_name": "base",
   "language": "python",
   "name": "python3"
  },
  "language_info": {
   "codemirror_mode": {
    "name": "ipython",
    "version": 3
   },
   "file_extension": ".py",
   "mimetype": "text/x-python",
   "name": "python",
   "nbconvert_exporter": "python",
   "pygments_lexer": "ipython3",
   "version": "3.10.13"
  }
 },
 "nbformat": 4,
 "nbformat_minor": 2
}
