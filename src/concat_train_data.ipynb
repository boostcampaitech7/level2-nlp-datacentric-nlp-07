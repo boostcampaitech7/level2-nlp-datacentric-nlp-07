{
 "cells": [
  {
   "cell_type": "markdown",
   "metadata": {},
   "source": [
    "# 파일 읽어온 뒤 합치기"
   ]
  },
  {
   "cell_type": "code",
   "execution_count": null,
   "metadata": {},
   "outputs": [],
   "source": [
    "import pandas as pd\n",
    "from read_letter_target_csv import read_as_number_target_csv, concat"
   ]
  },
  {
   "cell_type": "code",
   "execution_count": null,
   "metadata": {},
   "outputs": [
    {
     "name": "stdout",
     "output_type": "stream",
     "text": [
      "length : 6096\n",
      "target\n",
      "6.0    903\n",
      "5.0    893\n",
      "4.0    871\n",
      "2.0    869\n",
      "1.0    865\n",
      "3.0    849\n",
      "0.0    846\n",
      "Name: count, dtype: int64\n",
      "\n",
      "length : 15390\n",
      "target\n",
      "6    2280\n",
      "5    2250\n",
      "4    2210\n",
      "1    2210\n",
      "2    2170\n",
      "3    2140\n",
      "0    2130\n",
      "Name: count, dtype: int64\n",
      "\n",
      "length : 15560\n",
      "target\n",
      "6.0    2285\n",
      "5.0    2270\n",
      "4.0    2230\n",
      "2.0    2220\n",
      "1.0    2200\n",
      "0.0    2180\n",
      "3.0    2175\n",
      "Name: count, dtype: int64\n",
      "\n",
      "length : 9234\n",
      "target\n",
      "6.0    1368\n",
      "5.0    1350\n",
      "4.0    1326\n",
      "1.0    1326\n",
      "2.0    1302\n",
      "3.0    1284\n",
      "0.0    1278\n",
      "Name: count, dtype: int64\n",
      "\n"
     ]
    }
   ],
   "source": [
    "jduck_eng_ger = read_as_number_target_csv('df_eng_ger_combined.csv')\n",
    "ch = read_as_number_target_csv('clean_ascii_augmented_koeda_10x.csv')\n",
    "gc = read_as_number_target_csv('clean+jduck.csv+5_times (1).csv')\n",
    "gd = read_as_number_target_csv('clean_ascii_5_times_augmentation.csv')"
   ]
  },
  {
   "cell_type": "code",
   "execution_count": null,
   "metadata": {},
   "outputs": [
    {
     "name": "stdout",
     "output_type": "stream",
     "text": [
      "length : 28194\n",
      "target\n",
      "6.0    4210\n",
      "5.0    4123\n",
      "2.0    4059\n",
      "4.0    4013\n",
      "3.0    3953\n",
      "1.0    3922\n",
      "0.0    3914\n",
      "Name: count, dtype: int64\n",
      "\n"
     ]
    }
   ],
   "source": [
    "jduck_eng_ger_gc_gd = concat([jduck_eng_ger, gc, gd])"
   ]
  },
  {
   "cell_type": "code",
   "execution_count": null,
   "metadata": {},
   "outputs": [
    {
     "data": {
      "text/html": [
       "<div>\n",
       "<style scoped>\n",
       "    .dataframe tbody tr th:only-of-type {\n",
       "        vertical-align: middle;\n",
       "    }\n",
       "\n",
       "    .dataframe tbody tr th {\n",
       "        vertical-align: top;\n",
       "    }\n",
       "\n",
       "    .dataframe thead th {\n",
       "        text-align: right;\n",
       "    }\n",
       "</style>\n",
       "<table border=\"1\" class=\"dataframe\">\n",
       "  <thead>\n",
       "    <tr style=\"text-align: right;\">\n",
       "      <th></th>\n",
       "      <th>ID</th>\n",
       "      <th>text</th>\n",
       "      <th>target</th>\n",
       "      <th>translate</th>\n",
       "      <th>special_char_count</th>\n",
       "      <th>special_char_ratio</th>\n",
       "      <th>Unnamed: 0.1</th>\n",
       "      <th>Unnamed: 0</th>\n",
       "    </tr>\n",
       "  </thead>\n",
       "  <tbody>\n",
       "    <tr>\n",
       "      <th>0</th>\n",
       "      <td>ynat-v1_train_00000</td>\n",
       "      <td>KT, 2단계 이용 기간의 Q분기 업데이트: 새로운 기능과 개선 사항 공개</td>\n",
       "      <td>4</td>\n",
       "      <td>KT의 3분기 업데이트: 2단계 사용을 위한 새로운 기능과 개선 사항 공개</td>\n",
       "      <td>NaN</td>\n",
       "      <td>NaN</td>\n",
       "      <td>NaN</td>\n",
       "      <td>NaN</td>\n",
       "    </tr>\n",
       "    <tr>\n",
       "      <th>1</th>\n",
       "      <td>ynat-v1_train_00001</td>\n",
       "      <td>애플, 맥북 프로 '배터리 수명 문제' 해결을 위한 소프트웨어 업데이트 출시</td>\n",
       "      <td>4</td>\n",
       "      <td>애플, 맥북 프로 배터리 수명 문제 해결을 위한 소프트웨어 업데이트 출시</td>\n",
       "      <td>NaN</td>\n",
       "      <td>NaN</td>\n",
       "      <td>NaN</td>\n",
       "      <td>NaN</td>\n",
       "    </tr>\n",
       "    <tr>\n",
       "      <th>2</th>\n",
       "      <td>ynat-v1_train_00002</td>\n",
       "      <td>인공지능 기반 보안 기술, 기업의 데이터 보호에 혁명을 일으킨다</td>\n",
       "      <td>4</td>\n",
       "      <td>인공지능 기반 보안 기술, 기업 데이터 보호를 혁신하다</td>\n",
       "      <td>NaN</td>\n",
       "      <td>NaN</td>\n",
       "      <td>NaN</td>\n",
       "      <td>NaN</td>\n",
       "    </tr>\n",
       "    <tr>\n",
       "      <th>3</th>\n",
       "      <td>ynat-v1_train_00003</td>\n",
       "      <td>인공조명 혁신: dcST C, 생산성 향상 위한 고효율 LED 기술 개발</td>\n",
       "      <td>4</td>\n",
       "      <td>인공 조명 기술 혁신: dcST C가 향상된 생산성을 위한 고효율 LED 기술을 개발하다</td>\n",
       "      <td>NaN</td>\n",
       "      <td>NaN</td>\n",
       "      <td>NaN</td>\n",
       "      <td>NaN</td>\n",
       "    </tr>\n",
       "    <tr>\n",
       "      <th>4</th>\n",
       "      <td>ynat-v1_train_00004</td>\n",
       "      <td>한국 시장에서의 전자제품 판매 실적: 얼마나 벌고 있을까?</td>\n",
       "      <td>4</td>\n",
       "      <td>한국 시장 전자 제품 판매 실적: 얼마나 벌고 있을까?</td>\n",
       "      <td>NaN</td>\n",
       "      <td>NaN</td>\n",
       "      <td>NaN</td>\n",
       "      <td>NaN</td>\n",
       "    </tr>\n",
       "    <tr>\n",
       "      <th>...</th>\n",
       "      <td>...</td>\n",
       "      <td>...</td>\n",
       "      <td>...</td>\n",
       "      <td>...</td>\n",
       "      <td>...</td>\n",
       "      <td>...</td>\n",
       "      <td>...</td>\n",
       "      <td>...</td>\n",
       "    </tr>\n",
       "    <tr>\n",
       "      <th>9226</th>\n",
       "      <td>ynat-v1_train_02767</td>\n",
       "      <td>젊음의 예술적 표현: 전국 미래 예술가들의 감동을 주는 작품 전시회</td>\n",
       "      <td>0</td>\n",
       "      <td>NaN</td>\n",
       "      <td>NaN</td>\n",
       "      <td>NaN</td>\n",
       "      <td>NaN</td>\n",
       "      <td>9226.0</td>\n",
       "    </tr>\n",
       "    <tr>\n",
       "      <th>9227</th>\n",
       "      <td>ynat-v1_train_02767</td>\n",
       "      <td>젊음의 예술적 표현: 전국 미래 세대 예술인들의 감동을 주는 작품 전시회</td>\n",
       "      <td>0</td>\n",
       "      <td>NaN</td>\n",
       "      <td>NaN</td>\n",
       "      <td>NaN</td>\n",
       "      <td>NaN</td>\n",
       "      <td>9227.0</td>\n",
       "    </tr>\n",
       "    <tr>\n",
       "      <th>9228</th>\n",
       "      <td>ynat-v1_train_02767</td>\n",
       "      <td>젊음의 예술적 표현: 전국의 미래 예술인들의 감동을 주는 작품 전시회</td>\n",
       "      <td>0</td>\n",
       "      <td>NaN</td>\n",
       "      <td>NaN</td>\n",
       "      <td>NaN</td>\n",
       "      <td>NaN</td>\n",
       "      <td>9228.0</td>\n",
       "    </tr>\n",
       "    <tr>\n",
       "      <th>9229</th>\n",
       "      <td>ynat-v1_train_02788</td>\n",
       "      <td>남원 지역 예술가 모집: 봄&gt;X학%단+분야별 선도력 프로그램 참여자 신청</td>\n",
       "      <td>0</td>\n",
       "      <td>NaN</td>\n",
       "      <td>NaN</td>\n",
       "      <td>NaN</td>\n",
       "      <td>NaN</td>\n",
       "      <td>9229.0</td>\n",
       "    </tr>\n",
       "    <tr>\n",
       "      <th>9233</th>\n",
       "      <td>ynat-v1_train_02788</td>\n",
       "      <td>남원 지역 예술가 모집: 봄&gt;X학%단+분야별 선두력 프로그램 참여자 신청</td>\n",
       "      <td>0</td>\n",
       "      <td>NaN</td>\n",
       "      <td>NaN</td>\n",
       "      <td>NaN</td>\n",
       "      <td>NaN</td>\n",
       "      <td>9233.0</td>\n",
       "    </tr>\n",
       "  </tbody>\n",
       "</table>\n",
       "<p>28194 rows × 8 columns</p>\n",
       "</div>"
      ],
      "text/plain": [
       "                       ID                                        text  target  \\\n",
       "0     ynat-v1_train_00000   KT, 2단계 이용 기간의 Q분기 업데이트: 새로운 기능과 개선 사항 공개       4   \n",
       "1     ynat-v1_train_00001  애플, 맥북 프로 '배터리 수명 문제' 해결을 위한 소프트웨어 업데이트 출시       4   \n",
       "2     ynat-v1_train_00002         인공지능 기반 보안 기술, 기업의 데이터 보호에 혁명을 일으킨다       4   \n",
       "3     ynat-v1_train_00003    인공조명 혁신: dcST C, 생산성 향상 위한 고효율 LED 기술 개발       4   \n",
       "4     ynat-v1_train_00004            한국 시장에서의 전자제품 판매 실적: 얼마나 벌고 있을까?       4   \n",
       "...                   ...                                         ...     ...   \n",
       "9226  ynat-v1_train_02767       젊음의 예술적 표현: 전국 미래 예술가들의 감동을 주는 작품 전시회       0   \n",
       "9227  ynat-v1_train_02767    젊음의 예술적 표현: 전국 미래 세대 예술인들의 감동을 주는 작품 전시회       0   \n",
       "9228  ynat-v1_train_02767      젊음의 예술적 표현: 전국의 미래 예술인들의 감동을 주는 작품 전시회       0   \n",
       "9229  ynat-v1_train_02788    남원 지역 예술가 모집: 봄>X학%단+분야별 선도력 프로그램 참여자 신청       0   \n",
       "9233  ynat-v1_train_02788    남원 지역 예술가 모집: 봄>X학%단+분야별 선두력 프로그램 참여자 신청       0   \n",
       "\n",
       "                                              translate  special_char_count  \\\n",
       "0             KT의 3분기 업데이트: 2단계 사용을 위한 새로운 기능과 개선 사항 공개                 NaN   \n",
       "1              애플, 맥북 프로 배터리 수명 문제 해결을 위한 소프트웨어 업데이트 출시                 NaN   \n",
       "2                        인공지능 기반 보안 기술, 기업 데이터 보호를 혁신하다                 NaN   \n",
       "3     인공 조명 기술 혁신: dcST C가 향상된 생산성을 위한 고효율 LED 기술을 개발하다                 NaN   \n",
       "4                        한국 시장 전자 제품 판매 실적: 얼마나 벌고 있을까?                 NaN   \n",
       "...                                                 ...                 ...   \n",
       "9226                                                NaN                 NaN   \n",
       "9227                                                NaN                 NaN   \n",
       "9228                                                NaN                 NaN   \n",
       "9229                                                NaN                 NaN   \n",
       "9233                                                NaN                 NaN   \n",
       "\n",
       "      special_char_ratio  Unnamed: 0.1  Unnamed: 0  \n",
       "0                    NaN           NaN         NaN  \n",
       "1                    NaN           NaN         NaN  \n",
       "2                    NaN           NaN         NaN  \n",
       "3                    NaN           NaN         NaN  \n",
       "4                    NaN           NaN         NaN  \n",
       "...                  ...           ...         ...  \n",
       "9226                 NaN           NaN      9226.0  \n",
       "9227                 NaN           NaN      9227.0  \n",
       "9228                 NaN           NaN      9228.0  \n",
       "9229                 NaN           NaN      9229.0  \n",
       "9233                 NaN           NaN      9233.0  \n",
       "\n",
       "[28194 rows x 8 columns]"
      ]
     },
     "execution_count": 6,
     "metadata": {},
     "output_type": "execute_result"
    }
   ],
   "source": [
    "jduck_eng_ger_gc_gd['target'] = jduck_eng_ger_gc_gd['target'].astype(int)\n",
    "jduck_eng_ger_gc_gd"
   ]
  },
  {
   "cell_type": "code",
   "execution_count": null,
   "metadata": {},
   "outputs": [
    {
     "name": "stdout",
     "output_type": "stream",
     "text": [
      "Rows with non-string values:\n",
      "Empty DataFrame\n",
      "Columns: [ID, text, target, translate, special_char_count, special_char_ratio, Unnamed: 0.1, Unnamed: 0]\n",
      "Index: []\n"
     ]
    }
   ],
   "source": [
    "# 모든 값이 문자열인지, 결측치는 없는지 확인\n",
    "is_string = jduck_eng_ger_gc_gd['text'].apply(lambda x: isinstance(x, str))\n",
    "\n",
    "# 문자열이 아닌 값이 있는지 확인\n",
    "non_string_rows = jduck_eng_ger_gc_gd[~is_string]\n",
    "\n",
    "# 결과 출력\n",
    "print(f\"Rows with non-string values:\\n{non_string_rows}\")"
   ]
  },
  {
   "cell_type": "code",
   "execution_count": null,
   "metadata": {},
   "outputs": [],
   "source": [
    "jduck_eng_ger_gc_gd.to_csv(\"jduck_eng_ger_gc_gd.csv\", index=False)"
   ]
  },
  {
   "cell_type": "code",
   "execution_count": null,
   "metadata": {},
   "outputs": [
    {
     "data": {
      "text/html": [
       "<div>\n",
       "<style scoped>\n",
       "    .dataframe tbody tr th:only-of-type {\n",
       "        vertical-align: middle;\n",
       "    }\n",
       "\n",
       "    .dataframe tbody tr th {\n",
       "        vertical-align: top;\n",
       "    }\n",
       "\n",
       "    .dataframe thead th {\n",
       "        text-align: right;\n",
       "    }\n",
       "</style>\n",
       "<table border=\"1\" class=\"dataframe\">\n",
       "  <thead>\n",
       "    <tr style=\"text-align: right;\">\n",
       "      <th></th>\n",
       "      <th>ID</th>\n",
       "      <th>text</th>\n",
       "      <th>target</th>\n",
       "      <th>translate</th>\n",
       "    </tr>\n",
       "  </thead>\n",
       "  <tbody>\n",
       "    <tr>\n",
       "      <th>0</th>\n",
       "      <td>ynat-v1_train_00000</td>\n",
       "      <td>KT, 2단계 이용 기간의 Q분기 업데이트: 새로운 기능과 개선 사항 공개</td>\n",
       "      <td>4</td>\n",
       "      <td>KT의 3분기 업데이트: 2단계 사용을 위한 새로운 기능과 개선 사항 공개</td>\n",
       "    </tr>\n",
       "    <tr>\n",
       "      <th>1</th>\n",
       "      <td>ynat-v1_train_00001</td>\n",
       "      <td>애플, 맥북 프로 '배터리 수명 문제' 해결을 위한 소프트웨어 업데이트 출시</td>\n",
       "      <td>4</td>\n",
       "      <td>애플, 맥북 프로 배터리 수명 문제 해결을 위한 소프트웨어 업데이트 출시</td>\n",
       "    </tr>\n",
       "    <tr>\n",
       "      <th>2</th>\n",
       "      <td>ynat-v1_train_00002</td>\n",
       "      <td>인공지능 기반 보안 기술, 기업의 데이터 보호에 혁명을 일으킨다</td>\n",
       "      <td>4</td>\n",
       "      <td>인공지능 기반 보안 기술, 기업 데이터 보호를 혁신하다</td>\n",
       "    </tr>\n",
       "    <tr>\n",
       "      <th>3</th>\n",
       "      <td>ynat-v1_train_00003</td>\n",
       "      <td>인공조명 혁신: dcST C, 생산성 향상 위한 고효율 LED 기술 개발</td>\n",
       "      <td>4</td>\n",
       "      <td>인공 조명 기술 혁신: dcST C가 향상된 생산성을 위한 고효율 LED 기술을 개발하다</td>\n",
       "    </tr>\n",
       "    <tr>\n",
       "      <th>4</th>\n",
       "      <td>ynat-v1_train_00004</td>\n",
       "      <td>한국 시장에서의 전자제품 판매 실적: 얼마나 벌고 있을까?</td>\n",
       "      <td>4</td>\n",
       "      <td>한국 시장 전자 제품 판매 실적: 얼마나 벌고 있을까?</td>\n",
       "    </tr>\n",
       "  </tbody>\n",
       "</table>\n",
       "</div>"
      ],
      "text/plain": [
       "                    ID                                        text  target  \\\n",
       "0  ynat-v1_train_00000   KT, 2단계 이용 기간의 Q분기 업데이트: 새로운 기능과 개선 사항 공개       4   \n",
       "1  ynat-v1_train_00001  애플, 맥북 프로 '배터리 수명 문제' 해결을 위한 소프트웨어 업데이트 출시       4   \n",
       "2  ynat-v1_train_00002         인공지능 기반 보안 기술, 기업의 데이터 보호에 혁명을 일으킨다       4   \n",
       "3  ynat-v1_train_00003    인공조명 혁신: dcST C, 생산성 향상 위한 고효율 LED 기술 개발       4   \n",
       "4  ynat-v1_train_00004            한국 시장에서의 전자제품 판매 실적: 얼마나 벌고 있을까?       4   \n",
       "\n",
       "                                           translate  \n",
       "0          KT의 3분기 업데이트: 2단계 사용을 위한 새로운 기능과 개선 사항 공개  \n",
       "1           애플, 맥북 프로 배터리 수명 문제 해결을 위한 소프트웨어 업데이트 출시  \n",
       "2                     인공지능 기반 보안 기술, 기업 데이터 보호를 혁신하다  \n",
       "3  인공 조명 기술 혁신: dcST C가 향상된 생산성을 위한 고효율 LED 기술을 개발하다  \n",
       "4                     한국 시장 전자 제품 판매 실적: 얼마나 벌고 있을까?  "
      ]
     },
     "execution_count": 10,
     "metadata": {},
     "output_type": "execute_result"
    }
   ],
   "source": [
    "jduck_eng_ger_gc_gd.head()"
   ]
  },
  {
   "cell_type": "code",
   "execution_count": null,
   "metadata": {},
   "outputs": [],
   "source": [
    "jduck_eng_ger_gc_gd.to_csv(\"jduck_eng_ger_gc_gd.csv\", index=False)"
   ]
  },
  {
   "cell_type": "markdown",
   "metadata": {},
   "source": [
    "# 합친 파일 분포 확인"
   ]
  },
  {
   "cell_type": "code",
   "execution_count": null,
   "metadata": {},
   "outputs": [
    {
     "data": {
      "image/png": "[encoded data removed]",
      "text/plain": [
       "<Figure size 800x600 with 1 Axes>"
      ]
     },
     "metadata": {},
     "output_type": "display_data"
    }
   ],
   "source": [
    "import matplotlib.pyplot as plt\n",
    "import seaborn as sns\n",
    "\n",
    "sns.set(style=\"whitegrid\")\n",
    "\n",
    "plt.figure(figsize=(8, 6))\n",
    "sns.histplot(jduck_eng_ger_gc_gd['target'], bins=7, kde=False, discrete=True)  # kde=False는 밀도 곡선을 생략\n",
    "\n",
    "plt.title('Distribution of Target Values')\n",
    "plt.xlabel('Target Value')\n",
    "plt.ylabel('Frequency')\n",
    "\n",
    "plt.show()"
   ]
  },
  {
   "cell_type": "code",
   "execution_count": null,
   "metadata": {},
   "outputs": [
    {
     "data": {
      "text/plain": [
       "target\n",
       "5    957\n",
       "2    881\n",
       "1    801\n",
       "3    795\n",
       "4    763\n",
       "0    701\n",
       "6    657\n",
       "Name: count, dtype: int64"
      ]
     },
     "execution_count": 11,
     "metadata": {},
     "output_type": "execute_result"
    }
   ],
   "source": [
    "# 빠진 행 없이 변환되었는지 확인\n",
    "df_eng['target'].value_counts()"
   ]
  },
  {
   "cell_type": "code",
   "execution_count": null,
   "metadata": {},
   "outputs": [
    {
     "data": {
      "text/html": [
       "<div>\n",
       "<style scoped>\n",
       "    .dataframe tbody tr th:only-of-type {\n",
       "        vertical-align: middle;\n",
       "    }\n",
       "\n",
       "    .dataframe tbody tr th {\n",
       "        vertical-align: top;\n",
       "    }\n",
       "\n",
       "    .dataframe thead th {\n",
       "        text-align: right;\n",
       "    }\n",
       "</style>\n",
       "<table border=\"1\" class=\"dataframe\">\n",
       "  <thead>\n",
       "    <tr style=\"text-align: right;\">\n",
       "      <th></th>\n",
       "      <th>target</th>\n",
       "      <th>ID</th>\n",
       "      <th>text</th>\n",
       "    </tr>\n",
       "  </thead>\n",
       "  <tbody>\n",
       "    <tr>\n",
       "      <th>0</th>\n",
       "      <td>경제</td>\n",
       "      <td>ynat-v1_train_00003</td>\n",
       "      <td>갤노트8 주말 27만대 개통 시장은 불법 보조금 얼룩</td>\n",
       "    </tr>\n",
       "    <tr>\n",
       "      <th>1</th>\n",
       "      <td>사회</td>\n",
       "      <td>ynat-v1_train_00005</td>\n",
       "      <td>美성인 6명 중 1명꼴 배우자 연인 빚 떠안은 적 있다</td>\n",
       "    </tr>\n",
       "    <tr>\n",
       "      <th>2</th>\n",
       "      <td>스포츠</td>\n",
       "      <td>ynat-v1_train_00007</td>\n",
       "      <td>아가메즈 33득점 우리카드 KB손해보험 완파 3위 굳</td>\n",
       "    </tr>\n",
       "    <tr>\n",
       "      <th>3</th>\n",
       "      <td>사회</td>\n",
       "      <td>ynat-v1_train_00008</td>\n",
       "      <td>朴대통령 얼마나 많이 놀라셨어요 경주 지진현장 방문종합</td>\n",
       "    </tr>\n",
       "    <tr>\n",
       "      <th>4</th>\n",
       "      <td>IT과학</td>\n",
       "      <td>ynat-v1_train_00009</td>\n",
       "      <td>듀얼심 아이폰 하반기 출시설 솔솔 알뜰폰 기대감</td>\n",
       "    </tr>\n",
       "    <tr>\n",
       "      <th>...</th>\n",
       "      <td>...</td>\n",
       "      <td>...</td>\n",
       "      <td>...</td>\n",
       "    </tr>\n",
       "    <tr>\n",
       "      <th>5545</th>\n",
       "      <td>생활문화</td>\n",
       "      <td>ynat-v1_train_08347</td>\n",
       "      <td>마케스의 서재에서 글로벌 트렌드를 발견하다: 예술과 문학의 만남</td>\n",
       "    </tr>\n",
       "    <tr>\n",
       "      <th>5546</th>\n",
       "      <td>생활문화</td>\n",
       "      <td>ynat-v1_train_08348</td>\n",
       "      <td>미술관 입장료 52% 인하! 시민 문화생활 풍성해진다</td>\n",
       "    </tr>\n",
       "    <tr>\n",
       "      <th>5547</th>\n",
       "      <td>생활문화</td>\n",
       "      <td>ynat-v1_train_08349</td>\n",
       "      <td>숲속 치유 여행: 나무 사이를 걸으며 치유하기 프로그램 소개</td>\n",
       "    </tr>\n",
       "    <tr>\n",
       "      <th>5548</th>\n",
       "      <td>생활문화</td>\n",
       "      <td>ynat-v1_train_08350</td>\n",
       "      <td>청춘의 예술적 표현: 전국에서 모인 젊은 예술가들의 감동적인 작품 전시회</td>\n",
       "    </tr>\n",
       "    <tr>\n",
       "      <th>5549</th>\n",
       "      <td>생활문화</td>\n",
       "      <td>ynat-v1_train_08351</td>\n",
       "      <td>나원 예술가들을 위한 '창의성과 리더십' 프로그램 참여 호출</td>\n",
       "    </tr>\n",
       "  </tbody>\n",
       "</table>\n",
       "<p>5550 rows × 3 columns</p>\n",
       "</div>"
      ],
      "text/plain": [
       "     target                   ID                                      text\n",
       "0        경제  ynat-v1_train_00003             갤노트8 주말 27만대 개통 시장은 불법 보조금 얼룩\n",
       "1        사회  ynat-v1_train_00005            美성인 6명 중 1명꼴 배우자 연인 빚 떠안은 적 있다\n",
       "2       스포츠  ynat-v1_train_00007            아가메즈 33득점 우리카드 KB손해보험 완파 3위 굳 \n",
       "3        사회  ynat-v1_train_00008            朴대통령 얼마나 많이 놀라셨어요 경주 지진현장 방문종합\n",
       "4      IT과학  ynat-v1_train_00009                듀얼심 아이폰 하반기 출시설 솔솔 알뜰폰 기대감\n",
       "...     ...                  ...                                       ...\n",
       "5545   생활문화  ynat-v1_train_08347       마케스의 서재에서 글로벌 트렌드를 발견하다: 예술과 문학의 만남\n",
       "5546   생활문화  ynat-v1_train_08348             미술관 입장료 52% 인하! 시민 문화생활 풍성해진다\n",
       "5547   생활문화  ynat-v1_train_08349         숲속 치유 여행: 나무 사이를 걸으며 치유하기 프로그램 소개\n",
       "5548   생활문화  ynat-v1_train_08350  청춘의 예술적 표현: 전국에서 모인 젊은 예술가들의 감동적인 작품 전시회\n",
       "5549   생활문화  ynat-v1_train_08351         나원 예술가들을 위한 '창의성과 리더십' 프로그램 참여 호출\n",
       "\n",
       "[5550 rows x 3 columns]"
      ]
     },
     "execution_count": 12,
     "metadata": {},
     "output_type": "execute_result"
    }
   ],
   "source": [
    "df_ger"
   ]
  },
  {
   "cell_type": "code",
   "execution_count": null,
   "metadata": {},
   "outputs": [],
   "source": [
    "df_combined = pd.concat([df_ger, df_eng]).drop_duplicates(subset='text', keep='first')"
   ]
  },
  {
   "cell_type": "code",
   "execution_count": null,
   "metadata": {},
   "outputs": [
    {
     "data": {
      "text/plain": [
       "8250"
      ]
     },
     "execution_count": 14,
     "metadata": {},
     "output_type": "execute_result"
    }
   ],
   "source": [
    "len(df_combined)"
   ]
  },
  {
   "cell_type": "code",
   "execution_count": null,
   "metadata": {},
   "outputs": [],
   "source": [
    "df"
   ]
  },
  {
   "cell_type": "code",
   "execution_count": null,
   "metadata": {},
   "outputs": [],
   "source": [
    "df_combined.to_csv(save_as, index=False)"
   ]
  },
  {
   "cell_type": "code",
   "execution_count": null,
   "metadata": {},
   "outputs": [
    {
     "ename": "TypeError",
     "evalue": "'value' must be an instance of str or bytes, not a int",
     "output_type": "error",
     "traceback": [
      "\u001b[0;31m---------------------------------------------------------------------------\u001b[0m",
      "\u001b[0;31mTypeError\u001b[0m                                 Traceback (most recent call last)",
      "Cell \u001b[0;32mIn[16], line 9\u001b[0m\n\u001b[1;32m      7\u001b[0m \u001b[38;5;66;03m# 히스토그램 그리기\u001b[39;00m\n\u001b[1;32m      8\u001b[0m plt\u001b[38;5;241m.\u001b[39mfigure(figsize\u001b[38;5;241m=\u001b[39m(\u001b[38;5;241m8\u001b[39m, \u001b[38;5;241m6\u001b[39m))\n\u001b[0;32m----> 9\u001b[0m \u001b[43msns\u001b[49m\u001b[38;5;241;43m.\u001b[39;49m\u001b[43mhistplot\u001b[49m\u001b[43m(\u001b[49m\u001b[43mdf_combined\u001b[49m\u001b[43m[\u001b[49m\u001b[38;5;124;43m'\u001b[39;49m\u001b[38;5;124;43mtarget\u001b[39;49m\u001b[38;5;124;43m'\u001b[39;49m\u001b[43m]\u001b[49m\u001b[43m,\u001b[49m\u001b[43m \u001b[49m\u001b[43mbins\u001b[49m\u001b[38;5;241;43m=\u001b[39;49m\u001b[38;5;241;43m7\u001b[39;49m\u001b[43m,\u001b[49m\u001b[43m \u001b[49m\u001b[43mkde\u001b[49m\u001b[38;5;241;43m=\u001b[39;49m\u001b[38;5;28;43;01mFalse\u001b[39;49;00m\u001b[43m,\u001b[49m\u001b[43m \u001b[49m\u001b[43mdiscrete\u001b[49m\u001b[38;5;241;43m=\u001b[39;49m\u001b[38;5;28;43;01mTrue\u001b[39;49;00m\u001b[43m)\u001b[49m  \u001b[38;5;66;03m# kde=False는 밀도 곡선을 생략\u001b[39;00m\n\u001b[1;32m     11\u001b[0m \u001b[38;5;66;03m# 그래프 제목과 레이블 추가\u001b[39;00m\n\u001b[1;32m     12\u001b[0m plt\u001b[38;5;241m.\u001b[39mtitle(\u001b[38;5;124m'\u001b[39m\u001b[38;5;124mDistribution of Target Values\u001b[39m\u001b[38;5;124m'\u001b[39m)\n",
      "File \u001b[0;32m/opt/conda/lib/python3.10/site-packages/seaborn/distributions.py:1389\u001b[0m, in \u001b[0;36mhistplot\u001b[0;34m(data, x, y, hue, weights, stat, bins, binwidth, binrange, discrete, cumulative, common_bins, common_norm, multiple, element, fill, shrink, kde, kde_kws, line_kws, thresh, pthresh, pmax, cbar, cbar_ax, cbar_kws, palette, hue_order, hue_norm, color, log_scale, legend, ax, **kwargs)\u001b[0m\n\u001b[1;32m   1386\u001b[0m \u001b[38;5;28;01mif\u001b[39;00m ax \u001b[38;5;129;01mis\u001b[39;00m \u001b[38;5;28;01mNone\u001b[39;00m:\n\u001b[1;32m   1387\u001b[0m     ax \u001b[38;5;241m=\u001b[39m plt\u001b[38;5;241m.\u001b[39mgca()\n\u001b[0;32m-> 1389\u001b[0m \u001b[43mp\u001b[49m\u001b[38;5;241;43m.\u001b[39;49m\u001b[43m_attach\u001b[49m\u001b[43m(\u001b[49m\u001b[43max\u001b[49m\u001b[43m,\u001b[49m\u001b[43m \u001b[49m\u001b[43mlog_scale\u001b[49m\u001b[38;5;241;43m=\u001b[39;49m\u001b[43mlog_scale\u001b[49m\u001b[43m)\u001b[49m\n\u001b[1;32m   1391\u001b[0m \u001b[38;5;28;01mif\u001b[39;00m p\u001b[38;5;241m.\u001b[39munivariate:  \u001b[38;5;66;03m# Note, bivariate plots won't cycle\u001b[39;00m\n\u001b[1;32m   1392\u001b[0m     \u001b[38;5;28;01mif\u001b[39;00m fill:\n",
      "File \u001b[0;32m/opt/conda/lib/python3.10/site-packages/seaborn/_base.py:1135\u001b[0m, in \u001b[0;36mVectorPlotter._attach\u001b[0;34m(self, obj, allowed_types, log_scale)\u001b[0m\n\u001b[1;32m   1133\u001b[0m                 order \u001b[38;5;241m=\u001b[39m \u001b[38;5;28;01mNone\u001b[39;00m\n\u001b[1;32m   1134\u001b[0m             seed_data \u001b[38;5;241m=\u001b[39m categorical_order(seed_data, order)\n\u001b[0;32m-> 1135\u001b[0m         \u001b[43mconverter\u001b[49m\u001b[38;5;241;43m.\u001b[39;49m\u001b[43mupdate_units\u001b[49m\u001b[43m(\u001b[49m\u001b[43mseed_data\u001b[49m\u001b[43m)\u001b[49m\n\u001b[1;32m   1137\u001b[0m \u001b[38;5;66;03m# -- Set numerical axis scales\u001b[39;00m\n\u001b[1;32m   1138\u001b[0m \n\u001b[1;32m   1139\u001b[0m \u001b[38;5;66;03m# First unpack the log_scale argument\u001b[39;00m\n\u001b[1;32m   1140\u001b[0m \u001b[38;5;28;01mif\u001b[39;00m log_scale \u001b[38;5;129;01mis\u001b[39;00m \u001b[38;5;28;01mNone\u001b[39;00m:\n",
      "File \u001b[0;32m/opt/conda/lib/python3.10/site-packages/matplotlib/axis.py:1756\u001b[0m, in \u001b[0;36mAxis.update_units\u001b[0;34m(self, data)\u001b[0m\n\u001b[1;32m   1754\u001b[0m neednew \u001b[38;5;241m=\u001b[39m \u001b[38;5;28mself\u001b[39m\u001b[38;5;241m.\u001b[39mconverter \u001b[38;5;241m!=\u001b[39m converter\n\u001b[1;32m   1755\u001b[0m \u001b[38;5;28mself\u001b[39m\u001b[38;5;241m.\u001b[39mconverter \u001b[38;5;241m=\u001b[39m converter\n\u001b[0;32m-> 1756\u001b[0m default \u001b[38;5;241m=\u001b[39m \u001b[38;5;28;43mself\u001b[39;49m\u001b[38;5;241;43m.\u001b[39;49m\u001b[43mconverter\u001b[49m\u001b[38;5;241;43m.\u001b[39;49m\u001b[43mdefault_units\u001b[49m\u001b[43m(\u001b[49m\u001b[43mdata\u001b[49m\u001b[43m,\u001b[49m\u001b[43m \u001b[49m\u001b[38;5;28;43mself\u001b[39;49m\u001b[43m)\u001b[49m\n\u001b[1;32m   1757\u001b[0m \u001b[38;5;28;01mif\u001b[39;00m default \u001b[38;5;129;01mis\u001b[39;00m \u001b[38;5;129;01mnot\u001b[39;00m \u001b[38;5;28;01mNone\u001b[39;00m \u001b[38;5;129;01mand\u001b[39;00m \u001b[38;5;28mself\u001b[39m\u001b[38;5;241m.\u001b[39munits \u001b[38;5;129;01mis\u001b[39;00m \u001b[38;5;28;01mNone\u001b[39;00m:\n\u001b[1;32m   1758\u001b[0m     \u001b[38;5;28mself\u001b[39m\u001b[38;5;241m.\u001b[39mset_units(default)\n",
      "File \u001b[0;32m/opt/conda/lib/python3.10/site-packages/matplotlib/category.py:105\u001b[0m, in \u001b[0;36mStrCategoryConverter.default_units\u001b[0;34m(data, axis)\u001b[0m\n\u001b[1;32m    103\u001b[0m \u001b[38;5;66;03m# the conversion call stack is default_units -> axis_info -> convert\u001b[39;00m\n\u001b[1;32m    104\u001b[0m \u001b[38;5;28;01mif\u001b[39;00m axis\u001b[38;5;241m.\u001b[39munits \u001b[38;5;129;01mis\u001b[39;00m \u001b[38;5;28;01mNone\u001b[39;00m:\n\u001b[0;32m--> 105\u001b[0m     axis\u001b[38;5;241m.\u001b[39mset_units(\u001b[43mUnitData\u001b[49m\u001b[43m(\u001b[49m\u001b[43mdata\u001b[49m\u001b[43m)\u001b[49m)\n\u001b[1;32m    106\u001b[0m \u001b[38;5;28;01melse\u001b[39;00m:\n\u001b[1;32m    107\u001b[0m     axis\u001b[38;5;241m.\u001b[39munits\u001b[38;5;241m.\u001b[39mupdate(data)\n",
      "File \u001b[0;32m/opt/conda/lib/python3.10/site-packages/matplotlib/category.py:181\u001b[0m, in \u001b[0;36mUnitData.__init__\u001b[0;34m(self, data)\u001b[0m\n\u001b[1;32m    179\u001b[0m \u001b[38;5;28mself\u001b[39m\u001b[38;5;241m.\u001b[39m_counter \u001b[38;5;241m=\u001b[39m itertools\u001b[38;5;241m.\u001b[39mcount()\n\u001b[1;32m    180\u001b[0m \u001b[38;5;28;01mif\u001b[39;00m data \u001b[38;5;129;01mis\u001b[39;00m \u001b[38;5;129;01mnot\u001b[39;00m \u001b[38;5;28;01mNone\u001b[39;00m:\n\u001b[0;32m--> 181\u001b[0m     \u001b[38;5;28;43mself\u001b[39;49m\u001b[38;5;241;43m.\u001b[39;49m\u001b[43mupdate\u001b[49m\u001b[43m(\u001b[49m\u001b[43mdata\u001b[49m\u001b[43m)\u001b[49m\n",
      "File \u001b[0;32m/opt/conda/lib/python3.10/site-packages/matplotlib/category.py:216\u001b[0m, in \u001b[0;36mUnitData.update\u001b[0;34m(self, data)\u001b[0m\n\u001b[1;32m    213\u001b[0m convertible \u001b[38;5;241m=\u001b[39m \u001b[38;5;28;01mTrue\u001b[39;00m\n\u001b[1;32m    214\u001b[0m \u001b[38;5;28;01mfor\u001b[39;00m val \u001b[38;5;129;01min\u001b[39;00m OrderedDict\u001b[38;5;241m.\u001b[39mfromkeys(data):\n\u001b[1;32m    215\u001b[0m     \u001b[38;5;66;03m# OrderedDict just iterates over unique values in data.\u001b[39;00m\n\u001b[0;32m--> 216\u001b[0m     \u001b[43m_api\u001b[49m\u001b[38;5;241;43m.\u001b[39;49m\u001b[43mcheck_isinstance\u001b[49m\u001b[43m(\u001b[49m\u001b[43m(\u001b[49m\u001b[38;5;28;43mstr\u001b[39;49m\u001b[43m,\u001b[49m\u001b[43m \u001b[49m\u001b[38;5;28;43mbytes\u001b[39;49m\u001b[43m)\u001b[49m\u001b[43m,\u001b[49m\u001b[43m \u001b[49m\u001b[43mvalue\u001b[49m\u001b[38;5;241;43m=\u001b[39;49m\u001b[43mval\u001b[49m\u001b[43m)\u001b[49m\n\u001b[1;32m    217\u001b[0m     \u001b[38;5;28;01mif\u001b[39;00m convertible:\n\u001b[1;32m    218\u001b[0m         \u001b[38;5;66;03m# this will only be called so long as convertible is True.\u001b[39;00m\n\u001b[1;32m    219\u001b[0m         convertible \u001b[38;5;241m=\u001b[39m \u001b[38;5;28mself\u001b[39m\u001b[38;5;241m.\u001b[39m_str_is_convertible(val)\n",
      "File \u001b[0;32m/opt/conda/lib/python3.10/site-packages/matplotlib/_api/__init__.py:91\u001b[0m, in \u001b[0;36mcheck_isinstance\u001b[0;34m(types, **kwargs)\u001b[0m\n\u001b[1;32m     89\u001b[0m     names\u001b[38;5;241m.\u001b[39mremove(\u001b[38;5;124m\"\u001b[39m\u001b[38;5;124mNone\u001b[39m\u001b[38;5;124m\"\u001b[39m)\n\u001b[1;32m     90\u001b[0m     names\u001b[38;5;241m.\u001b[39mappend(\u001b[38;5;124m\"\u001b[39m\u001b[38;5;124mNone\u001b[39m\u001b[38;5;124m\"\u001b[39m)\n\u001b[0;32m---> 91\u001b[0m \u001b[38;5;28;01mraise\u001b[39;00m \u001b[38;5;167;01mTypeError\u001b[39;00m(\n\u001b[1;32m     92\u001b[0m     \u001b[38;5;124m\"\u001b[39m\u001b[38;5;132;01m{!r}\u001b[39;00m\u001b[38;5;124m must be an instance of \u001b[39m\u001b[38;5;132;01m{}\u001b[39;00m\u001b[38;5;124m, not a \u001b[39m\u001b[38;5;132;01m{}\u001b[39;00m\u001b[38;5;124m\"\u001b[39m\u001b[38;5;241m.\u001b[39mformat(\n\u001b[1;32m     93\u001b[0m         k,\n\u001b[1;32m     94\u001b[0m         \u001b[38;5;124m\"\u001b[39m\u001b[38;5;124m, \u001b[39m\u001b[38;5;124m\"\u001b[39m\u001b[38;5;241m.\u001b[39mjoin(names[:\u001b[38;5;241m-\u001b[39m\u001b[38;5;241m1\u001b[39m]) \u001b[38;5;241m+\u001b[39m \u001b[38;5;124m\"\u001b[39m\u001b[38;5;124m or \u001b[39m\u001b[38;5;124m\"\u001b[39m \u001b[38;5;241m+\u001b[39m names[\u001b[38;5;241m-\u001b[39m\u001b[38;5;241m1\u001b[39m]\n\u001b[1;32m     95\u001b[0m         \u001b[38;5;28;01mif\u001b[39;00m \u001b[38;5;28mlen\u001b[39m(names) \u001b[38;5;241m>\u001b[39m \u001b[38;5;241m1\u001b[39m \u001b[38;5;28;01melse\u001b[39;00m names[\u001b[38;5;241m0\u001b[39m],\n\u001b[1;32m     96\u001b[0m         type_name(\u001b[38;5;28mtype\u001b[39m(v))))\n",
      "\u001b[0;31mTypeError\u001b[0m: 'value' must be an instance of str or bytes, not a int"
     ]
    },
    {
     "data": {
      "image/png": "[encoded data removed]",
      "text/plain": [
       "<Figure size 800x600 with 1 Axes>"
      ]
     },
     "metadata": {},
     "output_type": "display_data"
    }
   ],
   "source": [
    "import matplotlib.pyplot as plt\n",
    "import seaborn as sns\n",
    "\n",
    "# seaborn 스타일 설정\n",
    "sns.set(style=\"whitegrid\")\n",
    "\n",
    "# 히스토그램 그리기\n",
    "plt.figure(figsize=(8, 6))\n",
    "sns.histplot(df_combined['target'], bins=7, kde=False, discrete=True)  # kde=False는 밀도 곡선을 생략\n",
    "\n",
    "# 그래프 제목과 레이블 추가\n",
    "plt.title('Distribution of Target Values')\n",
    "plt.xlabel('Target Value')\n",
    "plt.ylabel('Frequency')\n",
    "\n",
    "plt.show()\n"
   ]
  }
 ],
 "metadata": {
  "kernelspec": {
   "display_name": "base",
   "language": "python",
   "name": "python3"
  },
  "language_info": {
   "codemirror_mode": {
    "name": "ipython",
    "version": 3
   },
   "file_extension": ".py",
   "mimetype": "text/x-python",
   "name": "python",
   "nbconvert_exporter": "python",
   "pygments_lexer": "ipython3",
   "version": "3.10.13"
  }
 },
 "nbformat": 4,
 "nbformat_minor": 2
}
