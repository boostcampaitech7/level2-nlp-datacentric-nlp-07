{
 "cells": [
  {
   "cell_type": "markdown",
   "metadata": {},
   "source": [
    "# 파일 읽어온 뒤 합치기"
   ]
  },
  {
   "cell_type": "code",
   "execution_count": null,
   "metadata": {},
   "outputs": [],
   "source": [
    "import pandas as pd\n",
    "from read_letter_target_csv import read_as_number_target_csv, concat"
   ]
  },
  {
   "cell_type": "code",
   "execution_count": null,
   "metadata": {},
   "outputs": [],
   "source": [
    "jduck_eng_ger = read_as_number_target_csv('df_eng_ger_combined.csv')\n",
    "ch = read_as_number_target_csv('clean_ascii_augmented_koeda_10x.csv')\n",
    "gc = read_as_number_target_csv('clean+jduck.csv+5_times (1).csv')\n",
    "gd = read_as_number_target_csv('clean_ascii_5_times_augmentation.csv')"
   ]
  },
  {
   "cell_type": "code",
   "execution_count": null,
   "metadata": {},
   "outputs": [],
   "source": [
    "jduck_eng_ger_gc_gd = concat([jduck_eng_ger, gc, gd])"
   ]
  },
  {
   "cell_type": "code",
   "execution_count": null,
   "metadata": {},
   "outputs": [],
   "source": [
    "jduck_eng_ger_gc_gd['target'] = jduck_eng_ger_gc_gd['target'].astype(int)\n",
    "jduck_eng_ger_gc_gd"
   ]
  },
  {
   "cell_type": "code",
   "execution_count": null,
   "metadata": {},
   "outputs": [],
   "source": [
    "# 모든 값이 문자열인지, 결측치는 없는지 확인\n",
    "is_string = jduck_eng_ger_gc_gd['text'].apply(lambda x: isinstance(x, str))\n",
    "\n",
    "# 문자열이 아닌 값이 있는지 확인\n",
    "non_string_rows = jduck_eng_ger_gc_gd[~is_string]\n",
    "\n",
    "# 결과 출력\n",
    "print(f\"Rows with non-string values:\\n{non_string_rows}\")"
   ]
  },
  {
   "cell_type": "code",
   "execution_count": null,
   "metadata": {},
   "outputs": [],
   "source": [
    "jduck_eng_ger_gc_gd.to_csv(\"jduck_eng_ger_gc_gd.csv\", index=False)"
   ]
  },
  {
   "cell_type": "code",
   "execution_count": null,
   "metadata": {},
   "outputs": [],
   "source": [
    "jduck_eng_ger_gc_gd.head()"
   ]
  },
  {
   "cell_type": "code",
   "execution_count": null,
   "metadata": {},
   "outputs": [],
   "source": [
    "jduck_eng_ger_gc_gd.to_csv(\"jduck_eng_ger_gc_gd.csv\", index=False)"
   ]
  },
  {
   "cell_type": "markdown",
   "metadata": {},
   "source": [
    "# 합친 파일 분포 확인"
   ]
  },
  {
   "cell_type": "code",
   "execution_count": null,
   "metadata": {},
   "outputs": [],
   "source": [
    "import matplotlib.pyplot as plt\n",
    "import seaborn as sns\n",
    "\n",
    "sns.set(style=\"whitegrid\")\n",
    "\n",
    "plt.figure(figsize=(8, 6))\n",
    "sns.histplot(jduck_eng_ger_gc_gd['target'], bins=7, kde=False, discrete=True)  # kde=False는 밀도 곡선을 생략\n",
    "\n",
    "plt.title('Distribution of Target Values')\n",
    "plt.xlabel('Target Value')\n",
    "plt.ylabel('Frequency')\n",
    "\n",
    "plt.show()"
   ]
  },
  {
   "cell_type": "code",
   "execution_count": null,
   "metadata": {},
   "outputs": [],
   "source": [
    "# 빠진 행 없이 변환되었는지 확인\n",
    "df_eng['target'].value_counts()"
   ]
  },
  {
   "cell_type": "code",
   "execution_count": null,
   "metadata": {},
   "outputs": [],
   "source": [
    "df_ger"
   ]
  },
  {
   "cell_type": "code",
   "execution_count": null,
   "metadata": {},
   "outputs": [],
   "source": [
    "df_combined = pd.concat([df_ger, df_eng]).drop_duplicates(subset='text', keep='first')"
   ]
  },
  {
   "cell_type": "code",
   "execution_count": null,
   "metadata": {},
   "outputs": [],
   "source": [
    "len(df_combined)"
   ]
  },
  {
   "cell_type": "code",
   "execution_count": null,
   "metadata": {},
   "outputs": [],
   "source": [
    "df"
   ]
  },
  {
   "cell_type": "code",
   "execution_count": null,
   "metadata": {},
   "outputs": [],
   "source": [
    "df_combined.to_csv(save_as, index=False)"
   ]
  },
  {
   "cell_type": "code",
   "execution_count": null,
   "metadata": {},
   "outputs": [],
   "source": [
    "import matplotlib.pyplot as plt\n",
    "import seaborn as sns\n",
    "\n",
    "# seaborn 스타일 설정\n",
    "sns.set(style=\"whitegrid\")\n",
    "\n",
    "# 히스토그램 그리기\n",
    "plt.figure(figsize=(8, 6))\n",
    "sns.histplot(df_combined['target'], bins=7, kde=False, discrete=True)  # kde=False는 밀도 곡선을 생략\n",
    "\n",
    "# 그래프 제목과 레이블 추가\n",
    "plt.title('Distribution of Target Values')\n",
    "plt.xlabel('Target Value')\n",
    "plt.ylabel('Frequency')\n",
    "\n",
    "plt.show()\n"
   ]
  }
 ],
 "metadata": {
  "kernelspec": {
   "display_name": "base",
   "language": "python",
   "name": "python3"
  },
  "language_info": {
   "codemirror_mode": {
    "name": "ipython",
    "version": 3
   },
   "file_extension": ".py",
   "mimetype": "text/x-python",
   "name": "python",
   "nbconvert_exporter": "python",
   "pygments_lexer": "ipython3",
   "version": "3.10.13"
  }
 },
 "nbformat": 4,
 "nbformat_minor": 2
}
