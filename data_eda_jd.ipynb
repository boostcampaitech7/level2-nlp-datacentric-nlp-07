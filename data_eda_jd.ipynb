{
 "cells": [
  {
   "cell_type": "markdown",
   "metadata": {},
   "source": [
    "#KLUE-TC(YNAT) dataset (2800개)\n",
    "\n",
    "- Labeling Error - 1200개는 라벨을 임의로 바꿈\n",
    "→ 올바른 라벨로 재맵핑 필요\n",
    "- Random Noise - 1600개는 text에 노이즈를 추가. 임의의 char 중 20~80%를 랜덤으로 다른 아스키코드로 대체\n",
    "→ 높은 노이즈를 가지는 text는 제외, 낮은 샘플은 복구가 필요\n",
    " 사람이 개별 판단하지 말 것. 자동 detection이 가능하게 하여 수정하거나, 삭제하거나 진행\n",
    "\n",
    "\n",
    "- 접근 방식\n",
    "1. 노이즈 데이터를 분류, 정규식 기반 노이즈 정제\n",
    "1. 노이즈 정제된 데이터를 기반으로 모델 학습, 라벨링 에러 데이터를 재라벨링 \n"
   ]
  },
  {
   "cell_type": "markdown",
   "metadata": {},
   "source": [
    "## import dependencies "
   ]
  },
  {
   "cell_type": "code",
   "execution_count": null,
   "metadata": {},
   "outputs": [],
   "source": [
    "import pandas as pd\n",
    "import matplotlib.pyplot as plt\n",
    "import seaborn as sns\n",
    "import re\n",
    "\n",
    "from . import filter\n",
    "\n",
    "df = pd.read_csv('./data/train.csv')"
   ]
  },
  {
   "cell_type": "markdown",
   "metadata": {},
   "source": [
    "## 시각화 유틸 함수들\n",
    "\n",
    "데이터 프레임의 정보를 분석하는 함수들"
   ]
  },
  {
   "cell_type": "code",
   "execution_count": null,
   "metadata": {},
   "outputs": [],
   "source": [
    "#데이터 프레임 정보 출력\n",
    "def print_df(df):\n",
    "    print(df.info())\n",
    "    print(df.describe())\n",
    "    print(df.head())\n",
    "    \n",
    "def target_plot(df):\n",
    "    target_counts = df['target'].value_counts().sort_index()\n",
    "    print(target_counts)\n",
    "\n",
    "    # 시각화\n",
    "    plt.figure(figsize=(10, 6))\n",
    "    sns.barplot(x=target_counts.index, y=target_counts.values, palette='viridis')\n",
    "    plt.title('Count of Each Target Value')\n",
    "    plt.xlabel('Target Value')\n",
    "    plt.ylabel('Count')\n",
    "    plt.xticks(range(0, 7))  # target의 범위에 맞춰 x축 값 설정\n",
    "    plt.show()    \n",
    "    \n",
    "def print_targets(df):\n",
    "    # target 값에 따라 데이터프레임 정렬\n",
    "    df = df.sort_values(by='target')\n",
    "\n",
    "    # 각 target 값에 대해 샘플 출력\n",
    "    target_values = df['target'].unique()\n",
    "\n",
    "    for target in target_values:\n",
    "        print(f\"Target: {target}\")\n",
    "        samples = df[df['target'] == target].sample(n=10, random_state=42)\n",
    "        display(samples)  # Jupyter Notebook에서 DataFrame을 보기 좋게 출력"
   ]
  },
  {
   "cell_type": "markdown",
   "metadata": {},
   "source": [
    "## 데이터 전처리"
   ]
  },
  {
   "cell_type": "markdown",
   "metadata": {},
   "source": [
    "### ascii 오염 데이터 추출/정규식 필터링"
   ]
  },
  {
   "cell_type": "code",
   "execution_count": null,
   "metadata": {},
   "outputs": [],
   "source": [
    "# 노이즈 데이터를 추출\n",
    "high_noise = filter.SpecialCharFilter.filter_noise(df)\n",
    "\n",
    "# 노이즈 데이터의 텍스트 정규식 처리\n",
    "high_noise['text'] = high_noise['text'].apply(lambda x: re.sub(r'[^가-힣A-Z\\u4E00-\\u9FFF\\s0-9\\.%㎜㎡]', '', x))\n",
    "\n",
    "display(high_noise)"
   ]
  },
  {
   "cell_type": "code",
   "execution_count": null,
   "metadata": {},
   "outputs": [],
   "source": [
    "# 결과를 CSV 파일로 저장\n",
    "high_noise.to_csv('./data/noise_removed.csv', index=False, encoding='utf-8-sig')"
   ]
  },
  {
   "cell_type": "markdown",
   "metadata": {},
   "source": [
    "### 라벨 균일화\n",
    "다운샘플링을 통해 데이터 균일화 시도"
   ]
  },
  {
   "cell_type": "code",
   "execution_count": null,
   "metadata": {},
   "outputs": [],
   "source": [
    "df = pd.read_csv('data/clean_ascii+df_eng_ger_combined.csv')\n",
    "target_plot(df)\n",
    "\n",
    "df = pd.read_csv('output (7).csv')\n",
    "target_plot(df)"
   ]
  },
  {
   "cell_type": "markdown",
   "metadata": {},
   "source": [
    "## 데이터 트리밍"
   ]
  },
  {
   "cell_type": "code",
   "execution_count": null,
   "metadata": {},
   "outputs": [],
   "source": [
    "working_df = pd.read_csv('data/df_eng_ger_combined.csv')\n",
    "\n",
    "# 각 라벨의 최소 개수 찾기\n",
    "min_count = working_df['target'].value_counts().min()\n",
    "\n",
    "# 각 클래스에서 최소 개수만큼 샘플링하여 새로운 데이터프레임 생성\n",
    "df_balanced = working_df.groupby('target').apply(lambda x: x.sample(min_count)).reset_index(drop=True)\n",
    "\n",
    "df_balanced.to_csv('output/traimmed.csv', index=False, encoding='utf-8-sig')"
   ]
  }
 ],
 "metadata": {
  "kernelspec": {
   "display_name": "base",
   "language": "python",
   "name": "python3"
  },
  "language_info": {
   "codemirror_mode": {
    "name": "ipython",
    "version": 3
   },
   "file_extension": ".py",
   "mimetype": "text/x-python",
   "name": "python",
   "nbconvert_exporter": "python",
   "pygments_lexer": "ipython3",
   "version": "3.10.13"
  }
 },
 "nbformat": 4,
 "nbformat_minor": 2
}
