{
 "cells": [
  {
   "cell_type": "markdown",
   "metadata": {},
   "source": [
    "KLUE-TC(YNAT) dataset (2800개)\n",
    "\n",
    "- Labeling Error - 1000개는 라벨을 임의로 바꿈\n",
    "→ 올바른 라벨로 재맵핑 필요\n",
    "- Random Noise - 1600개는 text에 노이즈를 추가. 임의의 char 중 20~80%를 랜덤으로 다른 아스키코드로 대체\n",
    "→ 높은 노이즈를 가지는 text는 제외, 낮은 샘플은 복구가 필요\n",
    "→ 사람이 개별 판단하지 말 것. 자동 detection이 가능하게 하여 수정하거나, 삭제하거나 진행\n",
    "- Normal Dataset - 200개 < 이거 맞음???"
   ]
  },
  {
   "cell_type": "code",
   "execution_count": null,
   "metadata": {},
   "outputs": [],
   "source": [
    "import pandas as pd\n",
    "import matplotlib.pyplot as plt\n",
    "import seaborn as sns\n",
    "import re"
   ]
  },
  {
   "cell_type": "markdown",
   "metadata": {},
   "source": [
    "## 데이터 로드"
   ]
  },
  {
   "cell_type": "code",
   "execution_count": null,
   "metadata": {},
   "outputs": [],
   "source": [
    "df = pd.read_csv('./data/train.csv')"
   ]
  },
  {
   "cell_type": "markdown",
   "metadata": {},
   "source": [
    "## 유틸 함수들"
   ]
  },
  {
   "cell_type": "code",
   "execution_count": null,
   "metadata": {},
   "outputs": [],
   "source": [
    "#매핑 함수\n",
    "\n",
    "def mapping_label(df):\n",
    "    # 딕셔너리로 매핑 정의\n",
    "    label_map = {\n",
    "        0:'생활문화',1:'스포츠',2:'정치',3:'사회',4:'IT과학',5:'경제',6:'세계'\n",
    "    }\n",
    "    \n",
    "    # map 함수를 사용하여 변환\n",
    "    df['target'] = df['target'].map(label_map)\n",
    "    \n",
    "    return df\n",
    "\n",
    "#데이터 프레임 정보 출력\n",
    "def print_df(df):\n",
    "    print(df.info())\n",
    "    print(df.describe())\n",
    "    print(df.head())\n",
    "    \n",
    "def target_plot(df):\n",
    "    target_counts = df['target'].value_counts().sort_index()\n",
    "    print(target_counts)\n",
    "\n",
    "    # 시각화\n",
    "    plt.figure(figsize=(10, 6))\n",
    "    sns.barplot(x=target_counts.index, y=target_counts.values, palette='viridis')\n",
    "    plt.title('Count of Each Target Value')\n",
    "    plt.xlabel('Target Value')\n",
    "    plt.ylabel('Count')\n",
    "    plt.xticks(range(0, 7))  # target의 범위에 맞춰 x축 값 설정\n",
    "    plt.show()    \n",
    "    \n",
    "def print_targets(df):\n",
    "    # target 값에 따라 데이터프레임 정렬\n",
    "    df = df.sort_values(by='target')\n",
    "\n",
    "    # 각 target 값에 대해 샘플 출력\n",
    "    target_values = df['target'].unique()\n",
    "\n",
    "    for target in target_values:\n",
    "        print(f\"Target: {target}\")\n",
    "        samples = df[df['target'] == target].sample(n=10, random_state=42)\n",
    "        display(samples)  # Jupyter Notebook에서 DataFrame을 보기 좋게 출력"
   ]
  },
  {
   "cell_type": "markdown",
   "metadata": {},
   "source": [
    "## 데이터 전처리"
   ]
  },
  {
   "cell_type": "code",
   "execution_count": null,
   "metadata": {},
   "outputs": [],
   "source": [
    "from filter import *"
   ]
  },
  {
   "cell_type": "code",
   "execution_count": null,
   "metadata": {},
   "outputs": [],
   "source": [
    "# 특수 기호의 패턴 정의\n",
    "# 이 예시에서는 영숫자 이외의 모든 기호를 특수 기호로 간주합니다.\n",
    "# special_char_pattern = r'[^가-힣A-Z\\u4E00-\\u9FFF\\s0-9]'\n",
    "# .숫자% 형식을 제외하고, ㎜도 특수 기호에서 제외\n",
    "special_char_pattern = r'(?<!\\d)\\.(?!\\d)|(?<!\\d)%|[^가-힣A-Z\\u4E00-\\u9FFF\\s0-9\\.%㎜㎡]'\n",
    "\n",
    "# 각 text에 포함된 특수 기호의 개수를 세는 함수 정의\n",
    "def count_special_characters(text):\n",
    "    return len(re.findall(special_char_pattern, text))\n",
    "\n",
    "# 데이터프레임에 새로운 열 추가\n",
    "df['special_char_count'] = df['text'].apply(count_special_characters)\n",
    "df['special_char_ratio'] = df['special_char_count'] / df['text'].str.len()\n",
    "\n",
    "df_sorted = df.sort_values(by='special_char_ratio', ascending=False)\n",
    "\n",
    "# 결과 출력\n",
    "display(df_sorted.head(20))"
   ]
  },
  {
   "cell_type": "code",
   "execution_count": null,
   "metadata": {},
   "outputs": [],
   "source": [
    "# special_char_ratio가 0.2 이상인 데이터 필터링\n",
    "df_high_ratio = df_sorted[df_sorted['special_char_ratio'] >= 0.042]\n",
    "print(len(df_high_ratio))\n",
    "\n",
    "# 결과 출력\n",
    "display(df_high_ratio[['text', 'target', 'special_char_count', 'special_char_ratio']])\n",
    "\n",
    "df_high_ratio['text'] = df_high_ratio['text'].apply(lambda x: re.sub(r'[^가-힣A-Z\\u4E00-\\u9FFF\\s0-9\\.%㎜㎡]', '', x))\n",
    "\n",
    "display(df_high_ratio)"
   ]
  },
  {
   "cell_type": "code",
   "execution_count": null,
   "metadata": {},
   "outputs": [],
   "source": [
    "# df_high_ratio의 인덱스를 이용하여 제외할 행을 찾음\n",
    "df_excluded = df[~df.index.isin(df_high_ratio.index)]\n",
    "\n",
    "print(len(df_excluded))\n",
    "df_excluded.head(20)"
   ]
  },
  {
   "cell_type": "code",
   "execution_count": null,
   "metadata": {},
   "outputs": [],
   "source": [
    "# 결과를 CSV 파일로 저장\n",
    "df_high_ratio.to_csv('./data/noise_removed.csv', index=False, encoding='utf-8-sig')\n",
    "#df_excluded.to_csv('./data/noise_free.csv', index=False)"
   ]
  },
  {
   "cell_type": "code",
   "execution_count": null,
   "metadata": {},
   "outputs": [],
   "source": [
    "import matplotlib.pyplot as plt\n",
    "import seaborn as sns\n",
    "import pandas as pd\n",
    "\n",
    "#매핑 함수\n",
    "def mapping_label(df):\n",
    "    # 딕셔너리로 매핑 정의\n",
    "    label_map = {\n",
    "        0:'생활문화',1:'스포츠',2:'정치',3:'사회',4:'IT과학',5:'경제',6:'세계'\n",
    "    }\n",
    "    \n",
    "    # map 함수를 사용하여 변환\n",
    "    df['target'] = df['target'].map(label_map)\n",
    "    \n",
    "    return df\n",
    "\n",
    "#데이터 프레임 정보 출력\n",
    "def print_df(df):\n",
    "    print(df.info())\n",
    "    print(df.describe())\n",
    "    print(df.head())\n",
    "    \n",
    "def target_plot(df):\n",
    "    target_counts = df['target'].value_counts().sort_index()\n",
    "    #print(target_counts)\n",
    "\n",
    "    # 시각화\n",
    "    plt.figure(figsize=(10, 6))\n",
    "    sns.barplot(x=target_counts.index, y=target_counts.values, palette='viridis')\n",
    "    plt.title('Count of Each Target Value')\n",
    "    plt.xlabel('Target Value')\n",
    "    plt.ylabel('Count')\n",
    "    plt.xticks(range(0, 7))  # target의 범위에 맞춰 x축 값 설정\n",
    "    plt.show()    \n",
    "    \n",
    "def print_targets(df):\n",
    "    # target 값에 따라 데이터프레임 정렬\n",
    "    df = df.sort_values(by='target')\n",
    "\n",
    "    # 각 target 값에 대해 샘플 출력\n",
    "    target_values = df['target'].unique()\n",
    "\n",
    "    for target in target_values:\n",
    "        print(f\"Target: {target}\")\n",
    "        samples = df[df['target'] == target].sample(n=10, random_state=42)\n",
    "        display(samples)  # Jupyter Notebook에서 DataFrame을 보기 좋게 출력"
   ]
  },
  {
   "cell_type": "code",
   "execution_count": null,
   "metadata": {},
   "outputs": [],
   "source": [
    "df = pd.read_csv('data/clean_ascii+df_eng_ger_combined.csv')\n",
    "target_plot(df)\n",
    "\n",
    "df = pd.read_csv('output (7).csv')\n",
    "target_plot(df)"
   ]
  },
  {
   "cell_type": "markdown",
   "metadata": {},
   "source": [
    "## 데이터 트리밍"
   ]
  },
  {
   "cell_type": "code",
   "execution_count": null,
   "metadata": {},
   "outputs": [],
   "source": [
    "working_df = pd.read_csv('data/df_eng_ger_combined.csv')\n",
    "\n",
    "# 각 라벨의 최소 개수 찾기\n",
    "min_count = working_df['target'].value_counts().min()\n",
    "\n",
    "# 각 클래스에서 최소 개수만큼 샘플링하여 새로운 데이터프레임 생성\n",
    "df_balanced = working_df.groupby('target').apply(lambda x: x.sample(min_count)).reset_index(drop=True)\n",
    "\n",
    "df_balanced.to_csv('output/traimmed.csv', index=False, encoding='utf-8-sig')"
   ]
  }
 ],
 "metadata": {
  "kernelspec": {
   "display_name": "boostenv",
   "language": "python",
   "name": "python3"
  },
  "language_info": {
   "codemirror_mode": {
    "name": "ipython",
    "version": 3
   },
   "file_extension": ".py",
   "mimetype": "text/x-python",
   "name": "python",
   "nbconvert_exporter": "python",
   "pygments_lexer": "ipython3",
   "version": "3.10.13"
  }
 },
 "nbformat": 4,
 "nbformat_minor": 2
}
