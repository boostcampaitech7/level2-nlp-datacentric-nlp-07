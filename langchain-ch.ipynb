{
 "cells": [
  {
   "cell_type": "code",
   "execution_count": 7,
   "metadata": {},
   "outputs": [],
   "source": [
    "import ollama\n",
    "import sentencepiece\n",
    "import torch\n",
    "from transformers import AutoModelForCausalLM, AutoTokenizer\n",
    "import pandas as pd"
   ]
  },
  {
   "cell_type": "code",
   "execution_count": 8,
   "metadata": {},
   "outputs": [
    {
     "name": "stdout",
     "output_type": "stream",
     "text": [
      "2800\n"
     ]
    }
   ],
   "source": [
    "# 훈련 데이터셋 선언\n",
    "\n",
    "data_train = pd.read_csv(\"../data/train.csv\")\n",
    "print(len(data_train))"
   ]
  },
  {
   "cell_type": "code",
   "execution_count": 9,
   "metadata": {},
   "outputs": [
    {
     "name": "stdout",
     "output_type": "stream",
     "text": [
      "1595\n"
     ]
    }
   ],
   "source": [
    "# 텍스트 오염 데이터셋 선언\n",
    "\n",
    "df_contaminated_texts = pd.read_csv(\"../data/df_contaminated_texts.csv\")\n",
    "df_contaminated_texts = df_contaminated_texts.drop([\"special_char_count\", \"special_char_ratio\"], axis=1)\n",
    "print(len(df_contaminated_texts))\n",
    "\n",
    "\n",
    "#  텍스트 오염 데이터셋 타겟을 기존대로 숫자형으로 복구시켜줌\n",
    "\n",
    "def mapping_label(df):\n",
    "    # 딕셔너리로 매핑 정의\n",
    "    label_map = {\n",
    "        0:'생활문화',1:'스포츠',2:'정치',3:'사회',4:'IT과학',5:'경제',6:'세계'\n",
    "    }\n",
    "    inverted_label_map = {value: key for key, value in label_map.items()}\n",
    "\n",
    "    # map 함수를 사용하여 변환\n",
    "    df['target'] = df['target'].map(inverted_label_map)\n",
    "    df['target'] = df['target'].map(lambda x: int(x))\n",
    "    \n",
    "    return df\n",
    "\n",
    "# 사용\n",
    "data_contaminated_texts = mapping_label(df_contaminated_texts)"
   ]
  },
  {
   "cell_type": "code",
   "execution_count": 10,
   "metadata": {},
   "outputs": [
    {
     "name": "stdout",
     "output_type": "stream",
     "text": [
      "ID                  ynat-v1_train_00003\n",
      "text      갤노트8 주말 27만대 개통…시장은 불법 보조금 얼룩\n",
      "target                                5\n",
      "Name: 0, dtype: object\n",
      "ID                   ynat-v1_train_00005\n",
      "text      美성인 6명 중 1명꼴 배우자·연인 빚 떠안은 적 있다\n",
      "target                                 0\n",
      "Name: 1, dtype: object\n",
      "ID                     ynat-v1_train_00007\n",
      "text      아가메즈 33득점 우리카드 KB손해보험 완파…3위 굳...\n",
      "target                                   4\n",
      "Name: 2, dtype: object\n",
      "ID                   ynat-v1_train_00008\n",
      "text      朴대통령 얼마나 많이 놀라셨어요…경주 지진현장 방문종합\n",
      "target                                 6\n",
      "Name: 3, dtype: object\n",
      "ID               ynat-v1_train_00009\n",
      "text      듀얼심 아이폰 하반기 출시설 솔솔…알뜰폰 기대감\n",
      "target                             4\n",
      "Name: 4, dtype: object\n",
      "ID         ynat-v1_train_00011\n",
      "text      NH투자 1월 옵션 만기일 매도 우세\n",
      "target                       1\n",
      "Name: 5, dtype: object\n",
      "ID             ynat-v1_train_00012\n",
      "text      황총리 각 부처 비상대비태세 철저히 강구해야\n",
      "target                           2\n",
      "Name: 6, dtype: object\n",
      "ID                   ynat-v1_train_00015\n",
      "text      게시판 KISA 박민정 책임연구원 APTLD 이사 선출\n",
      "target                                 0\n",
      "Name: 7, dtype: object\n",
      "ID                   ynat-v1_train_00016\n",
      "text      공사업체 협박에 분쟁해결 명목 돈 받은 언론인 집행유예\n",
      "target                                 3\n",
      "Name: 8, dtype: object\n",
      "ID                 ynat-v1_train_00017\n",
      "text      월세 전환에 늘어나는 주거비 부담…작년 역대 최고치\n",
      "target                               5\n",
      "Name: 9, dtype: object\n"
     ]
    }
   ],
   "source": [
    "# 텍스트 비오염 데이터셋 선언\n",
    "\n",
    "data_clean_texts = pd.DataFrame(columns=data_train.columns)\n",
    "data_contaminated_texts_ids = data_contaminated_texts['ID'].tolist()\n",
    "\n",
    "for i in range(len(data_train)):\n",
    "    id = data_train.iloc[i][\"ID\"]\n",
    "    if id not in data_contaminated_texts_ids:\n",
    "        data_clean_texts.loc[len(data_clean_texts)] = data_train.iloc[i]\n",
    "\n",
    "for i in range(10):\n",
    "    print(data_clean_texts.iloc[i])"
   ]
  },
  {
   "cell_type": "code",
   "execution_count": 11,
   "metadata": {},
   "outputs": [],
   "source": [
    "titles_text_clean = []\n",
    "\n",
    "for i in range(len(data_clean_texts)):\n",
    "    titles_text_clean.append(data_clean_texts[\"text\"])\n"
   ]
  },
  {
   "cell_type": "code",
   "execution_count": 12,
   "metadata": {},
   "outputs": [],
   "source": [
    "titles_text_contaminated = [[] for i in range(7)]\n",
    "\n",
    "for i in range(len(df_contaminated_texts)):\n",
    "    target = df_contaminated_texts.iloc[i][\"target\"]\n",
    "    titles_text_contaminated[target].append(df_contaminated_texts.iloc[i][\"text\"])"
   ]
  },
  {
   "cell_type": "code",
   "execution_count": null,
   "metadata": {},
   "outputs": [
    {
     "name": "stdout",
     "output_type": "stream",
     "text": [
      "갤노트8 주말 27만대 개통…시장은 불법 보조금 얼룩[break]美성인 6명 중 1명꼴 배우자·연인 빚 떠안은 적 있다[break]아가메즈 33득점 우리카드 KB손해보험 완파…3위 굳...[break]朴대통령 얼마나 많이 놀라셨어요…경주 지진현장 방문종합[break]듀얼심 아이폰 하반기 출시설 솔솔…알뜰폰 기대감[break]NH투자 1월 옵션 만기일 매도 우세[break]황총리 각 부처 비상대비태세 철저히 강구해야[break]게시판 KISA 박민정 책임연구원 APTLD 이사 선출[break]공사업체 협박에 분쟁해결 명목 돈 받은 언론인 집행유예[break]월세 전환에 늘어나는 주거비 부담…작년 역대 최고치[break]페이스북 인터넷 드론 아퀼라 실물 첫 시험비행 성공[break]추신수 타율 0.265로 시즌 마감…최지만은 19홈런·6...[break]아시안게임 목소리 높인 박항서 베트남이 일본 못 이길...[break]서울에 다시 오존주의보…도심·서북·동북권 발령종합[break]안보리 대북결의안 2270호 이행보고서 제출한 나라 70개 육박[break]게시판 KBS 코로나가 바꾼 일상 대국민 영상 공모[break]크루즈 관광객용 반나절 부산 해안 트레킹 상품 개발[break]마틴 우리카드 코치로 V리그 복귀…한국 좋아요[break]LG G8 씽큐 15일부터 예판…디스플레이 1회 무상교체 혜택[break]피폭 노동자가 증언하는 후쿠시마 원전 은폐와 속임수[break]한국민족의 뿌리가 북방…5천년 전 한반도서 자생적으로 형성[break]근육조직 생성에 필수적인 열쇠 발견[break]유엔 리비아 내전 악화·국제적 확산 우려…아랍연맹 긴급회의종합[break]공룡 파충류보다는 타조·매 등 새에 가깝다[break]대한항공 우리카드 꺾고 3연승…GS칼텍스 1라운드 전승종합[break]영상 선출부터 퇴장까지…나경원 원내대표 파란만장 1년[break]MBC 류현진 특집 다큐…MLB 전설에게 듣는 류현진[break]모바일 컴퓨팅 미래는…서울서 국제학회 ACM 모비시스 개막[break]영상 냄새가 나는데…퇴근길 마주친 수상한 차 따라가봤더니[break]獨 反이스라엘 테러 팔레스타인인 강연 차단…비자도 취소[break]대구·경북 고용유지지원금 신청 폭주…2∼3월 7천550건[break]태블릿PC 조작설 변희재 1심 징역2년…악의적 공격 반복종합[break]한산한 성산일출봉 주차장[break]네이버 모바일 연예판에도 AI 콘텐츠 추천 시스템 적용[break]증시신상품 국채선물 인버스 ETF 3종[break]문대통령 호주 총리와 축구 평가전 1대1 무승부 축하[break]흥국운용 2천350억원 중순위 인수금융펀드 1호 결성 완료[break]北 무수단 발사 대기권 재진입 기술 확보 여부가 관건[break]北 서방에 백두산 연구 먼저 제의…과학외교 활발[break]코스피 미국발 악재에 또 급락…2360대로 털썩[break]승리에도 침통했던 박기원 감독 엔진을 끈 것 같다[break]프로축구2부 부천 안산과 11 무승부[break]세아트 드라이빙 시뮬레이터[break]최병륜 울산MBC 사장[break]전광인4없어도 한국전L FTV4컵서 현:캐피탈 격파종합[break]어촌으로 봄 여행 떠나볼까…해수부 체험 마을 20곳 추천[break]러 우주로켓 벼락 맞고도 멀쩡…탑재 위성 정상궤도 올려[break]게시판 인터넷신문위원회 언론분쟁 대처 교육[break]코오롱플라스틱 1분기 연결 영업익 58억원…138%↑[break]2017 올해의연극 베스트3 오른 옥상 밭 고추는 왜 재공연[break]떼었S 붙였다 액세서리Y 스마C폰 업U레이드[break]무등산에서 광주지역 올해 첫 얼음 관찰[break]朴대통령 與 TK 국회의원과 110분 면담…사드 민심 청취[break]지소미아 종료까지 8일…美 압박 속 고민 깊어지는 文대통령[break]호텔서 스타 셰프 음식 만난다…더플라자 레스토랑 4곳 오픈[break]우리은행 박혜진 연봉 3억원으로 2년 연속 연봉 퀸[break]시리보다 내가 낫다…빅스비의 세로드립 도발종합[break]11월 소비자 지갑을 열어라…유통업계 할인 경쟁 격화[break]한국형 발사체 75t 엔진 첫 연소시험 성공[break]힐만 감독 산체스 15∼16일 불펜에서 대기[break]GS칼텍스 IBK기업은행과 세터 이나연↔이고은 트레이드[break]KT안랩 통합TI·정보보안 서비스 개발 업무협약 체결[break]S9XOC카cO트6온라인 F개강좌 공동 개설[break]北당대회 나흘만에 일부 외신 취재허용…김정은 위원장 취임 발표[break]日도쿄 주택가 공원 연못서 토막시신 발견[break]홍콩 시위 참여 여성 경찰서에서 알몸 수색 강요당해[break]삼성 세계 최초 후면 쿼드카메라 탑재 갤럭시A9 공개[break]손흥민 AG대표팀 합류 시점은…31일 소집 참가 어려워[break]美이란 상대 국적자 체포 갈등…구금 중 학대 서로 비방[break]홍남기 미래부 1차관 서울혁신센터 등 방문[break]\n"
     ]
    },
    {
     "data": {
      "application/vnd.jupyter.widget-view+json": {
       "model_id": "058a870ebbe44ed59af914a85afd0ff1",
       "version_major": 2,
       "version_minor": 0
      },
      "text/plain": [
       "Loading checkpoint shards:   0%|          | 0/2 [00:00<?, ?it/s]"
      ]
     },
     "metadata": {},
     "output_type": "display_data"
    },
    {
     "name": "stderr",
     "output_type": "stream",
     "text": [
      "/opt/conda/lib/python3.10/site-packages/torch/_utils.py:831: UserWarning: TypedStorage is deprecated. It will be removed in the future and UntypedStorage will be the only storage class. This should only matter to you if you are using storages directly.  To access UntypedStorage directly, use tensor.untyped_storage() instead of tensor.storage()\n",
      "  return self.fget.__get__(instance, owner)()\n"
     ]
    },
    {
     "name": "stdout",
     "output_type": "stream",
     "text": [
      "모델의 최대 길이: 4096\n"
     ]
    },
    {
     "name": "stderr",
     "output_type": "stream",
     "text": [
      "/opt/conda/lib/python3.10/site-packages/transformers/generation/configuration_utils.py:590: UserWarning: `do_sample` is set to `False`. However, `temperature` is set to `0.7` -- this flag is only used in sample-based generation modes. You should set `do_sample=True` or unset `temperature`.\n",
      "  warnings.warn(\n",
      "/opt/conda/lib/python3.10/site-packages/transformers/generation/configuration_utils.py:595: UserWarning: `do_sample` is set to `False`. However, `top_p` is set to `0.9` -- this flag is only used in sample-based generation modes. You should set `do_sample=True` or unset `top_p`.\n",
      "  warnings.warn(\n"
     ]
    },
    {
     "name": "stdout",
     "output_type": "stream",
     "text": [
      "모델 응답: 대 국적자 체포 갈등...구금 중 학대 서로 비방[break]홍남기 미래부 1차관 서울혁신센터 등 방문[break]현대중공업 노조 임단협 잠정합의안 찬반투표 통과[break]SK텔레콤 5G 가입자 100만 돌파...세계 최단기간 기록 경신[break]삼성전자, 美서 '갤럭시 노트 9' 사전 예약 판매 시작[break]삼성전자, 인도 스마트폰 시장 점유율 20% 넘어서[break]삼성전자, 폴더블폰 디스플레이 공개[break]삼성전자, 국내 최대 규모 데이터센터 건립 추진[break]삼성전자, 중국서 '갤럭시 노트9' 사전예약 실시[break]삼성전자, '갤럭시 노트9' 글로벌 출격 준비 본격화[break]삼성전자, '갤럭시 노트9' 블루 색상 추가[break]삼성전자, '갤럭시 노트9' 128GB 모델 가격 99만원 책정[break]삼성전자, '갤럭시 노트9' 64GB 모델 가격 109만4500원 책정[break]삼성전자, '갤럭시 노트9' S펜 기능 강화[break]삼성전자, '갤럭시 노트9' 공식 티징 이미지 공개[break]삼성전자, '갤럭시 노트9' 언팩 초청장 배포[break]삼성전자, '갤럭시 노트9' 8월 9일 뉴욕서 공개[break]삼성전자, '갤럭시 노트9' 렌더링 유출[break]삼성전자, '갤럭시 노트9' 8월 9일 공개 예정[break]삼성전자, '갤럭시 노트9' 8월 9일 공개 예정[break]삼성전자, '갤럭시 노트9' 8월 9일 공개 예정[break]삼성전자, '갤럭시 노트9' 8월 9일 공개 예정[break]삼성전자, '갤럭시 노트9' 8월 9일 공개 예정[break]삼성전자, '갤럭시 노트9' 8월 9일 공개 예정[break]삼성전자, '갤럭시 노트9' 8월 9일 공개 예정[break]삼성전자, '갤럭시 노트9' 8월 9일 공개 예정[break]삼성전자, '갤럭시 노트9' 8월 9일 공개 예정[break]삼성전자, '갤럭시 노트9' 8월 9일 공개 예정[break]삼성전자, '갤럭시 노트9' 8월 9일 공개 예정[break]삼성전자, '갤럭시 노트9' 8월 9일 공개 예정[break]삼성전자, '갤럭시 노트9' 8월 9일 공개 예정[break]삼성전자, '갤럭시 노트9' 8월 9일 공개 예정[break]삼성전자, '갤럭시 노트9' 8월 9일 공개 예정[break]삼성전자, '갤럭시 노트9' 8월 9일 공개 예정[break]삼성전자, '갤럭시 노트9' 8월 9일 공개 예정[break]삼성전자, '갤럭시 노트9' 8월 9일 공개 예정[break]삼성전자, '갤럭시 노트9' 8월 9일 공개 예정[break]삼성전자, '갤럭시 노트9' 8월 9일 공개 예정[break]삼성전자, '갤럭시 노트9' 8월 9일 공개 예정[break]삼성전자, '갤럭시 노트9' 8월 9일 공개 예정[break]삼성전자, '갤럭시 노트9' 8월 9일 공개 예정[break]삼성전자, '갤럭시 노트9' 8월 9일 공개 예정[break]삼성전자, '갤럭시 노트9' 8월 9일 공개 예정[break]삼성전자, '갤럭시 노트9' 8월 9일 공개 예정[break]삼성전자, '갤럭시 노트9' 8월 9일 공개 예정[break]삼성전자, '갤럭시 노트9' 8월 9일 공개 예정[break]삼성전자, '갤럭시 노트9' 8월 9일 공개 예정[break]삼성전자, '갤럭시 노트9' 8월 9일 공개 예정[break]삼성전자, '갤럭시 노트9' 8월 9일 공개 예정[break]삼성전자, '갤럭시 노트9' 8월 9일 공개 예정[break]삼성전자, '갤럭시 노트9' 8월 9일 공개 예정[break]삼성전자, '갤럭시 노트9' 8월 9일 공개 예정[break]삼성전자, '갤럭시 노트9' 8월 9일 공개 예정[break]삼성전자, '갤럭시 노트9' 8월 9일 공개 예정[break]삼성전자, '갤럭시 노트9' 8월 9일 공개 예정[break]삼성전자, '갤럭시 노트9' 8월 9일 공개 예정[break]삼성전자, '갤럭시 노트9' 8월 9일 공개 예정[break]삼성전자, '갤럭시 노트9' 8월 9일 공개 예정[break]삼성전자, '갤럭시 노트9' 8월 9일 공개 예정[break]삼성전자, '갤럭시 노트9' 8월 9일 공개 예정[break]삼성전자, '갤럭시 노트9' 8월 9일 공개 예정[break]삼성전자, '갤럭시 노트9' 8월 9일 공개 예정[break]삼성전자, '갤럭시 노트9' 8월 9일 공개 예정[break]삼성전자, '갤럭시 노트9' 8월 9일 공개 예정[break]삼성전자, '갤럭시 노트9' 8월 9일 공개 예정[break]삼성전자, '갤럭시 노트9' 8월 9일 공개 예정[break]삼성전자, '갤럭시 노트9' 8월 9일 공개 예정[break]삼성전자, '갤럭시 노트9' 8월 9일 공개 예정[break]삼성전자, '갤럭시 노트9' 8월 9일 공개 예정[break]삼성전자, '갤럭시 노트9' 8월 9일 공개 예정[break]삼성전자, '갤럭시 노트9' 8월 9일 공개 예정[break]삼성전자, '갤럭시 노트9' 8월 9일 공개 예정[break]삼성전자, '갤럭시 노트9' 8월 9일 공개 예정[break]삼성전자, '갤럭시 노트9' 8월 9일 공개 예정[break]삼성전자, '갤럭시 노트9' 8월 9일 공개 예정[break]삼성전자, '갤럭시 노트9' 8월 9일 공개 예정[break]삼성전자, '갤럭시 노트9' 8월 9일 공개 예정[break]삼성전자, '갤럭시 노트9' 8월 9일 공개 예정[break]삼성전자, '갤럭시 노트9' 8월 9일 공개 예정[break]삼성전자, '갤럭시 노트9' 8월 9일 공개 예정[break]삼성전자, '갤럭시 노트9' 8월 9일 공개 예정[break]삼성전자, '갤럭시 노트9' 8월 9일 공개 예정[break]삼성전자, '갤럭시 노트9' 8월 9일 공개 예정[break]삼성전자, '갤럭시 노트9' 8월 9일 공개 예정[break]삼성전자, '갤럭시 노트9' 8월 9일 공개 예정[break]삼성전자, '갤럭시 노트9' 8월 9일 공개 예정[break]삼성전자, '갤럭시 노트9' 8월 9일 공개 예정[break]삼성전자, '갤럭시 노트9' 8월 9일 공개 예정[break]삼성전자, '갤럭시 노트9' 8월 9일 공개 예정[break]삼성전자, '갤럭시 노트9' 8월 9일 공개 예정[break]삼성전자, '갤럭시 노트9' 8월 9일 공개 예정[break]삼성전자, '갤럭시 노트9' 8월 9일 공개 예정[break]삼성전자, '갤럭시 노트9' 8월 9일 공개 예정[break]삼성전자, '갤럭시 노트9' 8월 9일 공개 예정[break]삼성전자, '갤럭시 노트9' 8월 9일 공개 예정[break]삼성전자, '갤럭시 노트9' 8월 9일 공개 예정[break]삼성전자, '갤럭시 노트9' 8월 9일 공개 예정[break]삼성전자, '갤럭시 노트9' 8월 9일 공개 예정[break]삼성전자, '갤럭시 노트9' 8월 9일 공개 예정[break]삼성전자, '갤럭시 노트9' 8월 9일 공개 예정[break]삼성전자, '갤럭시 노트9' 8월 9일 공개 예정[break]삼성전자, '갤럭시 노트9' 8월 9일 공개 예정[break]삼성전자, '갤럭시 노트9' 8월 9일 공개 예정[break]삼성전자, '갤럭시 노트9' 8월 9일 공개 예정[break]삼성전자, '갤럭시 노트9' 8월 9일 공개 예정[break]삼성전자, '갤럭시 노트9' 8월 9일 공개 예정[break]삼성전자, '갤럭시 노트9' 8월 9일 공개 예정[break]삼성전자, '갤럭시 노트9' 8월 9일 공개 예정[break]삼성전자, '갤럭시 노트9' 8월 9일 공개 예정[break]삼성전자, '갤럭시 노트9' 8월 9일 공개 예정[break]삼성전자, '갤럭시 노트9' 8월 9일 공개 예정[break]삼성전자, '갤럭시 노트9' 8월 9일 공개 예정[break]삼성전자, '갤럭시 노트9' 8월 9일 공개 예정[break]삼성전자, '갤럭시 노트9' 8월 9일 공개 예정[break]삼성전자, '갤럭시 노트9' 8월 9일 공개 예정[break]삼성전자, '갤럭시 노트9' 8월 9일 공개 예정[break]삼성전자, '갤럭시 노트9' 8월 9일 공개 예정[break]삼성전자, '갤럭시 노트9' 8월 9일 공개 예정[break]삼성전자, '갤럭시 노트9' 8월 9일 공개 예정[break]삼성전자, '갤럭시 노트9' 8월 9일 공개 예정[break]삼성전자, '갤럭시 노트9' 8월 9일 공개 예정[break]삼성전자, '갤럭시 노트9' 8월 9일 공개 예정[break]삼성전자, '갤럭시 노트9' 8월 9일 공개 예정[break]삼성전자, '갤럭시 노트9' 8월 9일 공개 예정[break]삼성전자, '갤럭시 노트9' 8월 9일 공개 예정[break]삼성전자, '갤럭시 노트9' 8월 9일 공개 예정[break]삼성전자, '갤럭시 노트9' 8월 9일 공개 예정[break]삼성전자, '갤럭시 노트9' 8월 9일 공개 예정[break]삼성전자, '갤럭시 노트9' 8월 9일 공개 예정[break]삼성전자, '갤럭시 노트9' 8월 9일 공개 예정[break]삼성전자, '갤럭시 노트9' 8월 9일 공개 예정[break]삼성전자, '갤럭시 노트9' 8월 9일 공개 예정[break]삼성전자, '갤럭시 노트9' 8월 9일 공개 예정[break]삼성전자, '갤럭시 노트9' 8월 9일 공개 예정[break]삼성전자, '갤럭시 노트9' 8월 9일 공개 예정[break]삼성전자, '갤럭시 노트9' 8월 9일 공개 예정[break]삼성전자, '갤럭시 노트9' 8월 9일 공개 예정[break]삼성전자, '갤럭시 노트9' 8월 9일 공개 예정[break]삼성전자, '갤럭시 노트9' 8월 9일 공개 예정[break]삼성전자, '갤럭시 노트9' 8월 9일 공개 예정[break]삼성전자, '갤럭시 노트9' 8월 9일 공개 예정[break]삼성전자, '갤럭시 노트9' 8월 9일 공개 예정[break]삼성전자, '갤럭시 노트9' 8월 9일 공개 예정[break]삼성전자, '갤럭시 노트9' 8월 9일 공개 예정[break]삼성전자, '갤럭시 노트9' 8월 9일 공개 예정[break]삼성전자, '갤럭시 노트9' 8월 9일 공개 예정[break]삼성전자, '갤럭시 노트9' 8월 9일 공개 예정[break]삼성전자, '갤럭시 노트9' 8월 9일 공개 예정[break]삼성전자, '갤럭시 노트9' 8월 9일 공개 예정[break]삼성전자, '갤럭시 노트9'\n"
     ]
    },
    {
     "data": {
      "application/vnd.jupyter.widget-view+json": {
       "model_id": "52cfbd27e7524480b629484dacdd738d",
       "version_major": 2,
       "version_minor": 0
      },
      "text/plain": [
       "tokenizer_config.json:   0%|          | 0.00/51.1k [00:00<?, ?B/s]"
      ]
     },
     "metadata": {},
     "output_type": "display_data"
    },
    {
     "data": {
      "application/vnd.jupyter.widget-view+json": {
       "model_id": "0f67a524e4d546ee8f82fe42b5f38e99",
       "version_major": 2,
       "version_minor": 0
      },
      "text/plain": [
       "tokenizer.json:   0%|          | 0.00/9.09M [00:00<?, ?B/s]"
      ]
     },
     "metadata": {},
     "output_type": "display_data"
    },
    {
     "data": {
      "application/vnd.jupyter.widget-view+json": {
       "model_id": "00bc699f497c438f8fe945ee6cf31404",
       "version_major": 2,
       "version_minor": 0
      },
      "text/plain": [
       "special_tokens_map.json:   0%|          | 0.00/444 [00:00<?, ?B/s]"
      ]
     },
     "metadata": {},
     "output_type": "display_data"
    },
    {
     "data": {
      "application/vnd.jupyter.widget-view+json": {
       "model_id": "e0e4b1c0121142968a99f230e5e14e42",
       "version_major": 2,
       "version_minor": 0
      },
      "text/plain": [
       "config.json:   0%|          | 0.00/710 [00:00<?, ?B/s]"
      ]
     },
     "metadata": {},
     "output_type": "display_data"
    },
    {
     "data": {
      "application/vnd.jupyter.widget-view+json": {
       "model_id": "8020224120ce42e58bb02553fad37895",
       "version_major": 2,
       "version_minor": 0
      },
      "text/plain": [
       "model.safetensors.index.json:   0%|          | 0.00/23.9k [00:00<?, ?B/s]"
      ]
     },
     "metadata": {},
     "output_type": "display_data"
    },
    {
     "data": {
      "application/vnd.jupyter.widget-view+json": {
       "model_id": "5a03bad87163481887fe3e43b48cc715",
       "version_major": 2,
       "version_minor": 0
      },
      "text/plain": [
       "Downloading shards:   0%|          | 0/4 [00:00<?, ?it/s]"
      ]
     },
     "metadata": {},
     "output_type": "display_data"
    },
    {
     "data": {
      "application/vnd.jupyter.widget-view+json": {
       "model_id": "32f3e48ab1654c988709d3a63befb79e",
       "version_major": 2,
       "version_minor": 0
      },
      "text/plain": [
       "model-00001-of-00004.safetensors:   0%|          | 0.00/4.98G [00:00<?, ?B/s]"
      ]
     },
     "metadata": {},
     "output_type": "display_data"
    },
    {
     "data": {
      "application/vnd.jupyter.widget-view+json": {
       "model_id": "b27d9893cbf447c0810a7feaace0c3e8",
       "version_major": 2,
       "version_minor": 0
      },
      "text/plain": [
       "model-00002-of-00004.safetensors:   0%|          | 0.00/5.00G [00:00<?, ?B/s]"
      ]
     },
     "metadata": {},
     "output_type": "display_data"
    },
    {
     "data": {
      "application/vnd.jupyter.widget-view+json": {
       "model_id": "378ceced4bb546228ca51f6468832c73",
       "version_major": 2,
       "version_minor": 0
      },
      "text/plain": [
       "model-00003-of-00004.safetensors:   0%|          | 0.00/4.92G [00:00<?, ?B/s]"
      ]
     },
     "metadata": {},
     "output_type": "display_data"
    },
    {
     "data": {
      "application/vnd.jupyter.widget-view+json": {
       "model_id": "3d626b78fd894cb0aebf99189f4e7d09",
       "version_major": 2,
       "version_minor": 0
      },
      "text/plain": [
       "model-00004-of-00004.safetensors:   0%|          | 0.00/1.17G [00:00<?, ?B/s]"
      ]
     },
     "metadata": {},
     "output_type": "display_data"
    },
    {
     "data": {
      "application/vnd.jupyter.widget-view+json": {
       "model_id": "2d3a159961734d53a0d8ef5826a25b50",
       "version_major": 2,
       "version_minor": 0
      },
      "text/plain": [
       "Loading checkpoint shards:   0%|          | 0/4 [00:00<?, ?it/s]"
      ]
     },
     "metadata": {},
     "output_type": "display_data"
    },
    {
     "ename": "",
     "evalue": "",
     "output_type": "error",
     "traceback": [
      "\u001b[1;31mThe Kernel crashed while executing code in the current cell or a previous cell. \n",
      "\u001b[1;31mPlease review the code in the cell(s) to identify a possible cause of the failure. \n",
      "\u001b[1;31mClick <a href='https://aka.ms/vscodeJupyterKernelCrash'>here</a> for more info. \n",
      "\u001b[1;31mView Jupyter <a href='command:jupyter.viewOutput'>log</a> for further details."
     ]
    }
   ],
   "source": [
    "# Models sorted by task: text generation, language: Korean, downloads 및 trending 각각 상위 3개\n",
    "\n",
    "model_names = [\"OrionStarAI/Orion-14B-Base\", \n",
    "               \"MLP-KTLim/llama-3-Korean-Bllossom-8B\",\n",
    "               \"beomi/polyglot-ko-12.8b-safetensors\",\n",
    "               \"CohereForAI/aya-expanse-8b\",\n",
    "               \"CohereForAI/aya-expanse-32b\",\n",
    "               \"Bllossom/llama-3.2-Korean-Bllossom-3B\"]\n",
    "\n",
    "# 입력 텍스트\n",
    "count = 0\n",
    "count_limit = 25\n",
    "input_text = \"\"\n",
    "for title in titles_text_clean[0]:\n",
    "    input_text += f\"{title}[break]\" \n",
    "    count += 1\n",
    "    if count >= count_limit:\n",
    "        break\n",
    "\n",
    "print(input_text)\n",
    "\n",
    "for model_name in model_names:\n",
    "    tokenizer = AutoTokenizer.from_pretrained(model_name, trust_remote_code=True)\n",
    "    model = AutoModelForCausalLM.from_pretrained(model_name, trust_remote_code=True)\n",
    "\n",
    "    prompt = f\"\"\"\n",
    "    다음은 여러 뉴스 기사 제목입니다. 각 제목은 [break]로 구분되어 있습니다.\n",
    "    다음 뉴스 기사 제목들은 총 7가지의 주제로 나누어져 있는데. 그 7가지 주제가 무엇인지 맞춰주세요.\n",
    "\n",
    "    뉴스 제목:\n",
    "    {input_text}\n",
    "\n",
    "    \"\"\"\n",
    "\n",
    "    # 입력 텍스트를 토큰화\n",
    "    input_ids = tokenizer(input_text, return_tensors=\"pt\").input_ids\n",
    "\n",
    "    # 모델로부터 텍스트 생성\n",
    "    max_length = tokenizer.model_max_length\n",
    "    print(\"모델의 최대 길이:\", max_length)\n",
    "    with torch.no_grad():\n",
    "        generated_ids = model.generate(\n",
    "            input_ids,\n",
    "            max_length=300,\n",
    "            temperature=0.7,\n",
    "            top_k=50,\n",
    "            top_p=0.9,\n",
    "            repetition_penalty=1.2,\n",
    "            no_repeat_ngram_size=2,\n",
    "            eos_token_id=tokenizer.eos_token_id  # 종료 토큰 설정\n",
    "        )\n",
    "\n",
    "\n",
    "    # 생성된 토큰을 텍스트로 변환\n",
    "    output_text = tokenizer.decode(generated_ids[0], skip_special_tokens=True)\n",
    "\n",
    "    # 조건문을 사용하여 출력할 텍스트 결정\n",
    "    if len(output_text) > len(input_text):\n",
    "        # output_text가 input_text보다 길다면 input_text 부분을 잘라낸 후 출력\n",
    "        response_text = output_text[len(input_text):].strip()\n",
    "    else:\n",
    "        # output_text가 input_text보다 짧거나 같다면 그대로 출력\n",
    "        response_text = output_text.strip()\n",
    "\n",
    "    print(\"모델 응답:\", response_text)"
   ]
  },
  {
   "cell_type": "code",
   "execution_count": null,
   "metadata": {},
   "outputs": [
    {
     "name": "stdout",
     "output_type": "stream",
     "text": [
      "갤노트8 주말 27만대 개통…시장은 불법 보조금 얼룩[break]美성인 6명 중 1명꼴 배우자·연인 빚 떠안은 적 있다[break]아가메즈 33득점 우리카드 KB손해보험 완파…3위 굳...[break]朴대통령 얼마나 많이 놀라셨어요…경주 지진현장 방문종합[break]듀얼심 아이폰 하반기 출시설 솔솔…알뜰폰 기대감[break]NH투자 1월 옵션 만기일 매도 우세[break]황총리 각 부처 비상대비태세 철저히 강구해야[break]게시판 KISA 박민정 책임연구원 APTLD 이사 선출[break]공사업체 협박에 분쟁해결 명목 돈 받은 언론인 집행유예[break]월세 전환에 늘어나는 주거비 부담…작년 역대 최고치[break]페이스북 인터넷 드론 아퀼라 실물 첫 시험비행 성공[break]추신수 타율 0.265로 시즌 마감…최지만은 19홈런·6...[break]아시안게임 목소리 높인 박항서 베트남이 일본 못 이길...[break]서울에 다시 오존주의보…도심·서북·동북권 발령종합[break]안보리 대북결의안 2270호 이행보고서 제출한 나라 70개 육박[break]게시판 KBS 코로나가 바꾼 일상 대국민 영상 공모[break]크루즈 관광객용 반나절 부산 해안 트레킹 상품 개발[break]마틴 우리카드 코치로 V리그 복귀…한국 좋아요[break]LG G8 씽큐 15일부터 예판…디스플레이 1회 무상교체 혜택[break]피폭 노동자가 증언하는 후쿠시마 원전 은폐와 속임수[break]한국민족의 뿌리가 북방…5천년 전 한반도서 자생적으로 형성[break]근육조직 생성에 필수적인 열쇠 발견[break]유엔 리비아 내전 악화·국제적 확산 우려…아랍연맹 긴급회의종합[break]공룡 파충류보다는 타조·매 등 새에 가깝다[break]대한항공 우리카드 꺾고 3연승…GS칼텍스 1라운드 전승종합[break]\n"
     ]
    },
    {
     "data": {
      "application/vnd.jupyter.widget-view+json": {
       "model_id": "68161d8d90c2461e840e5892183f068d",
       "version_major": 2,
       "version_minor": 0
      },
      "text/plain": [
       "Loading checkpoint shards:   0%|          | 0/2 [00:00<?, ?it/s]"
      ]
     },
     "metadata": {},
     "output_type": "display_data"
    },
    {
     "name": "stderr",
     "output_type": "stream",
     "text": [
      "/opt/conda/lib/python3.10/site-packages/torch/_utils.py:831: UserWarning: TypedStorage is deprecated. It will be removed in the future and UntypedStorage will be the only storage class. This should only matter to you if you are using storages directly.  To access UntypedStorage directly, use tensor.untyped_storage() instead of tensor.storage()\n",
      "  return self.fget.__get__(instance, owner)()\n"
     ]
    },
    {
     "name": "stdout",
     "output_type": "stream",
     "text": [
      "모델의 최대 길이: 4096\n"
     ]
    },
    {
     "name": "stderr",
     "output_type": "stream",
     "text": [
      "/opt/conda/lib/python3.10/site-packages/transformers/generation/configuration_utils.py:590: UserWarning: `do_sample` is set to `False`. However, `temperature` is set to `0.7` -- this flag is only used in sample-based generation modes. You should set `do_sample=True` or unset `temperature`.\n",
      "  warnings.warn(\n",
      "/opt/conda/lib/python3.10/site-packages/transformers/generation/configuration_utils.py:595: UserWarning: `do_sample` is set to `False`. However, `top_p` is set to `0.9` -- this flag is only used in sample-based generation modes. You should set `do_sample=True` or unset `top_p`.\n",
      "  warnings.warn(\n"
     ]
    },
    {
     "ename": "ValueError",
     "evalue": "Input length of input_ids is 527, but `max_length` is set to 300. This can lead to unexpected behavior. You should consider increasing `max_length` or, better yet, setting `max_new_tokens`.",
     "output_type": "error",
     "traceback": [
      "\u001b[0;31m---------------------------------------------------------------------------\u001b[0m",
      "\u001b[0;31mValueError\u001b[0m                                Traceback (most recent call last)",
      "Cell \u001b[0;32mIn[13], line 42\u001b[0m\n\u001b[1;32m     40\u001b[0m \u001b[38;5;28mprint\u001b[39m(\u001b[38;5;124m\"\u001b[39m\u001b[38;5;124m모델의 최대 길이:\u001b[39m\u001b[38;5;124m\"\u001b[39m, max_length)\n\u001b[1;32m     41\u001b[0m \u001b[38;5;28;01mwith\u001b[39;00m torch\u001b[38;5;241m.\u001b[39mno_grad():\n\u001b[0;32m---> 42\u001b[0m     generated_ids \u001b[38;5;241m=\u001b[39m \u001b[43mmodel\u001b[49m\u001b[38;5;241;43m.\u001b[39;49m\u001b[43mgenerate\u001b[49m\u001b[43m(\u001b[49m\n\u001b[1;32m     43\u001b[0m \u001b[43m        \u001b[49m\u001b[43minput_ids\u001b[49m\u001b[43m,\u001b[49m\n\u001b[1;32m     44\u001b[0m \u001b[43m        \u001b[49m\u001b[43mmax_length\u001b[49m\u001b[38;5;241;43m=\u001b[39;49m\u001b[38;5;241;43m300\u001b[39;49m\u001b[43m,\u001b[49m\n\u001b[1;32m     45\u001b[0m \u001b[43m        \u001b[49m\u001b[43mtemperature\u001b[49m\u001b[38;5;241;43m=\u001b[39;49m\u001b[38;5;241;43m0.7\u001b[39;49m\u001b[43m,\u001b[49m\n\u001b[1;32m     46\u001b[0m \u001b[43m        \u001b[49m\u001b[43mtop_k\u001b[49m\u001b[38;5;241;43m=\u001b[39;49m\u001b[38;5;241;43m50\u001b[39;49m\u001b[43m,\u001b[49m\n\u001b[1;32m     47\u001b[0m \u001b[43m        \u001b[49m\u001b[43mtop_p\u001b[49m\u001b[38;5;241;43m=\u001b[39;49m\u001b[38;5;241;43m0.9\u001b[39;49m\u001b[43m,\u001b[49m\n\u001b[1;32m     48\u001b[0m \u001b[43m        \u001b[49m\u001b[43mrepetition_penalty\u001b[49m\u001b[38;5;241;43m=\u001b[39;49m\u001b[38;5;241;43m1.2\u001b[39;49m\u001b[43m,\u001b[49m\n\u001b[1;32m     49\u001b[0m \u001b[43m        \u001b[49m\u001b[43mno_repeat_ngram_size\u001b[49m\u001b[38;5;241;43m=\u001b[39;49m\u001b[38;5;241;43m2\u001b[39;49m\u001b[43m,\u001b[49m\n\u001b[1;32m     50\u001b[0m \u001b[43m        \u001b[49m\u001b[43meos_token_id\u001b[49m\u001b[38;5;241;43m=\u001b[39;49m\u001b[43mtokenizer\u001b[49m\u001b[38;5;241;43m.\u001b[39;49m\u001b[43meos_token_id\u001b[49m\u001b[43m  \u001b[49m\u001b[38;5;66;43;03m# 종료 토큰 설정\u001b[39;49;00m\n\u001b[1;32m     51\u001b[0m \u001b[43m    \u001b[49m\u001b[43m)\u001b[49m\n\u001b[1;32m     54\u001b[0m \u001b[38;5;66;03m# 생성된 토큰을 텍스트로 변환\u001b[39;00m\n\u001b[1;32m     55\u001b[0m output_text \u001b[38;5;241m=\u001b[39m tokenizer\u001b[38;5;241m.\u001b[39mdecode(generated_ids[\u001b[38;5;241m0\u001b[39m], skip_special_tokens\u001b[38;5;241m=\u001b[39m\u001b[38;5;28;01mTrue\u001b[39;00m)\n",
      "File \u001b[0;32m/opt/conda/lib/python3.10/site-packages/torch/utils/_contextlib.py:115\u001b[0m, in \u001b[0;36mcontext_decorator.<locals>.decorate_context\u001b[0;34m(*args, **kwargs)\u001b[0m\n\u001b[1;32m    112\u001b[0m \u001b[38;5;129m@functools\u001b[39m\u001b[38;5;241m.\u001b[39mwraps(func)\n\u001b[1;32m    113\u001b[0m \u001b[38;5;28;01mdef\u001b[39;00m \u001b[38;5;21mdecorate_context\u001b[39m(\u001b[38;5;241m*\u001b[39margs, \u001b[38;5;241m*\u001b[39m\u001b[38;5;241m*\u001b[39mkwargs):\n\u001b[1;32m    114\u001b[0m     \u001b[38;5;28;01mwith\u001b[39;00m ctx_factory():\n\u001b[0;32m--> 115\u001b[0m         \u001b[38;5;28;01mreturn\u001b[39;00m \u001b[43mfunc\u001b[49m\u001b[43m(\u001b[49m\u001b[38;5;241;43m*\u001b[39;49m\u001b[43margs\u001b[49m\u001b[43m,\u001b[49m\u001b[43m \u001b[49m\u001b[38;5;241;43m*\u001b[39;49m\u001b[38;5;241;43m*\u001b[39;49m\u001b[43mkwargs\u001b[49m\u001b[43m)\u001b[49m\n",
      "File \u001b[0;32m/opt/conda/lib/python3.10/site-packages/transformers/generation/utils.py:2068\u001b[0m, in \u001b[0;36mGenerationMixin.generate\u001b[0;34m(self, inputs, generation_config, logits_processor, stopping_criteria, prefix_allowed_tokens_fn, synced_gpus, assistant_model, streamer, negative_prompt_ids, negative_prompt_attention_mask, **kwargs)\u001b[0m\n\u001b[1;32m   2065\u001b[0m \u001b[38;5;28;01mif\u001b[39;00m \u001b[38;5;28mself\u001b[39m\u001b[38;5;241m.\u001b[39m_supports_num_logits_to_keep() \u001b[38;5;129;01mand\u001b[39;00m \u001b[38;5;124m\"\u001b[39m\u001b[38;5;124mnum_logits_to_keep\u001b[39m\u001b[38;5;124m\"\u001b[39m \u001b[38;5;129;01mnot\u001b[39;00m \u001b[38;5;129;01min\u001b[39;00m model_kwargs:\n\u001b[1;32m   2066\u001b[0m     model_kwargs[\u001b[38;5;124m\"\u001b[39m\u001b[38;5;124mnum_logits_to_keep\u001b[39m\u001b[38;5;124m\"\u001b[39m] \u001b[38;5;241m=\u001b[39m \u001b[38;5;241m1\u001b[39m\n\u001b[0;32m-> 2068\u001b[0m \u001b[38;5;28;43mself\u001b[39;49m\u001b[38;5;241;43m.\u001b[39;49m\u001b[43m_validate_generated_length\u001b[49m\u001b[43m(\u001b[49m\u001b[43mgeneration_config\u001b[49m\u001b[43m,\u001b[49m\u001b[43m \u001b[49m\u001b[43minput_ids_length\u001b[49m\u001b[43m,\u001b[49m\u001b[43m \u001b[49m\u001b[43mhas_default_max_length\u001b[49m\u001b[43m)\u001b[49m\n\u001b[1;32m   2070\u001b[0m \u001b[38;5;66;03m# 7. Prepare the cache.\u001b[39;00m\n\u001b[1;32m   2071\u001b[0m \u001b[38;5;66;03m# - `model_kwargs` may be updated in place with a cache as defined by the parameters in `generation_config`.\u001b[39;00m\n\u001b[1;32m   2072\u001b[0m \u001b[38;5;66;03m# - different models have a different cache name expected by the model (default = \"past_key_values\")\u001b[39;00m\n\u001b[1;32m   2073\u001b[0m \u001b[38;5;66;03m# - `max_length`, prepared above, is used to determine the maximum cache length\u001b[39;00m\n\u001b[1;32m   2074\u001b[0m \u001b[38;5;66;03m# TODO (joao): remove `user_defined_cache` after v4.47 (remove default conversion to legacy format)\u001b[39;00m\n\u001b[1;32m   2075\u001b[0m cache_name \u001b[38;5;241m=\u001b[39m \u001b[38;5;124m\"\u001b[39m\u001b[38;5;124mpast_key_values\u001b[39m\u001b[38;5;124m\"\u001b[39m \u001b[38;5;28;01mif\u001b[39;00m \u001b[38;5;124m\"\u001b[39m\u001b[38;5;124mmamba\u001b[39m\u001b[38;5;124m\"\u001b[39m \u001b[38;5;129;01mnot\u001b[39;00m \u001b[38;5;129;01min\u001b[39;00m \u001b[38;5;28mself\u001b[39m\u001b[38;5;241m.\u001b[39m\u001b[38;5;18m__class__\u001b[39m\u001b[38;5;241m.\u001b[39m\u001b[38;5;18m__name__\u001b[39m\u001b[38;5;241m.\u001b[39mlower() \u001b[38;5;28;01melse\u001b[39;00m \u001b[38;5;124m\"\u001b[39m\u001b[38;5;124mcache_params\u001b[39m\u001b[38;5;124m\"\u001b[39m\n",
      "File \u001b[0;32m/opt/conda/lib/python3.10/site-packages/transformers/generation/utils.py:1383\u001b[0m, in \u001b[0;36mGenerationMixin._validate_generated_length\u001b[0;34m(self, generation_config, input_ids_length, has_default_max_length)\u001b[0m\n\u001b[1;32m   1381\u001b[0m \u001b[38;5;28;01mif\u001b[39;00m input_ids_length \u001b[38;5;241m>\u001b[39m\u001b[38;5;241m=\u001b[39m generation_config\u001b[38;5;241m.\u001b[39mmax_length:\n\u001b[1;32m   1382\u001b[0m     input_ids_string \u001b[38;5;241m=\u001b[39m \u001b[38;5;124m\"\u001b[39m\u001b[38;5;124mdecoder_input_ids\u001b[39m\u001b[38;5;124m\"\u001b[39m \u001b[38;5;28;01mif\u001b[39;00m \u001b[38;5;28mself\u001b[39m\u001b[38;5;241m.\u001b[39mconfig\u001b[38;5;241m.\u001b[39mis_encoder_decoder \u001b[38;5;28;01melse\u001b[39;00m \u001b[38;5;124m\"\u001b[39m\u001b[38;5;124minput_ids\u001b[39m\u001b[38;5;124m\"\u001b[39m\n\u001b[0;32m-> 1383\u001b[0m     \u001b[38;5;28;01mraise\u001b[39;00m \u001b[38;5;167;01mValueError\u001b[39;00m(\n\u001b[1;32m   1384\u001b[0m         \u001b[38;5;124mf\u001b[39m\u001b[38;5;124m\"\u001b[39m\u001b[38;5;124mInput length of \u001b[39m\u001b[38;5;132;01m{\u001b[39;00minput_ids_string\u001b[38;5;132;01m}\u001b[39;00m\u001b[38;5;124m is \u001b[39m\u001b[38;5;132;01m{\u001b[39;00minput_ids_length\u001b[38;5;132;01m}\u001b[39;00m\u001b[38;5;124m, but `max_length` is set to\u001b[39m\u001b[38;5;124m\"\u001b[39m\n\u001b[1;32m   1385\u001b[0m         \u001b[38;5;124mf\u001b[39m\u001b[38;5;124m\"\u001b[39m\u001b[38;5;124m \u001b[39m\u001b[38;5;132;01m{\u001b[39;00mgeneration_config\u001b[38;5;241m.\u001b[39mmax_length\u001b[38;5;132;01m}\u001b[39;00m\u001b[38;5;124m. This can lead to unexpected behavior. You should consider\u001b[39m\u001b[38;5;124m\"\u001b[39m\n\u001b[1;32m   1386\u001b[0m         \u001b[38;5;124m\"\u001b[39m\u001b[38;5;124m increasing `max_length` or, better yet, setting `max_new_tokens`.\u001b[39m\u001b[38;5;124m\"\u001b[39m\n\u001b[1;32m   1387\u001b[0m     )\n\u001b[1;32m   1389\u001b[0m \u001b[38;5;66;03m# 2. Min length warnings due to unfeasible parameter combinations\u001b[39;00m\n\u001b[1;32m   1390\u001b[0m min_length_error_suffix \u001b[38;5;241m=\u001b[39m (\n\u001b[1;32m   1391\u001b[0m     \u001b[38;5;124m\"\u001b[39m\u001b[38;5;124m Generation will stop at the defined maximum length. You should decrease the minimum length and/or \u001b[39m\u001b[38;5;124m\"\u001b[39m\n\u001b[1;32m   1392\u001b[0m     \u001b[38;5;124m\"\u001b[39m\u001b[38;5;124mincrease the maximum length.\u001b[39m\u001b[38;5;124m\"\u001b[39m\n\u001b[1;32m   1393\u001b[0m )\n",
      "\u001b[0;31mValueError\u001b[0m: Input length of input_ids is 527, but `max_length` is set to 300. This can lead to unexpected behavior. You should consider increasing `max_length` or, better yet, setting `max_new_tokens`."
     ]
    }
   ],
   "source": [
    "# Models sorted by task: text generation, language: Korean, downloads 및 trending 각각 상위 3개\n",
    "\n",
    "model_names = [\"OrionStarAI/Orion-14B-Base\", \n",
    "               \"MLP-KTLim/llama-3-Korean-Bllossom-8B\",\n",
    "               \"beomi/polyglot-ko-12.8b-safetensors\",\n",
    "               \"CohereForAI/aya-expanse-8b\",\n",
    "               \"CohereForAI/aya-expanse-32b\",\n",
    "               \"Bllossom/llama-3.2-Korean-Bllossom-3B\"]\n",
    "\n",
    "# 입력 텍스트\n",
    "count = 0\n",
    "count_limit = 25\n",
    "input_text = \"\"\n",
    "for title in titles_text_clean[0]:\n",
    "    input_text += f\"{title}[break]\" \n",
    "    count += 1\n",
    "    if count >= count_limit:\n",
    "        break\n",
    "\n",
    "print(input_text)\n",
    "\n",
    "for model_name in model_names:\n",
    "    tokenizer = AutoTokenizer.from_pretrained(model_name, trust_remote_code=True)\n",
    "    model = AutoModelForCausalLM.from_pretrained(model_name, trust_remote_code=True)\n",
    "\n",
    "    prompt = f\"\"\"\n",
    "    다음은 여러 뉴스 기사 제목입니다. 각 제목은 [break]로 구분되어 있습니다.\n",
    "    다음 뉴스 기사 제목들은 총 7가지의 주제로 나누어져 있는데. 그 7가지 주제가 무엇인지 맞춰주세요.\n",
    "\n",
    "    뉴스 제목:\n",
    "    {input_text}\n",
    "\n",
    "    \"\"\"\n",
    "\n",
    "    # 입력 텍스트를 토큰화\n",
    "    input_ids = tokenizer(input_text, return_tensors=\"pt\").input_ids\n",
    "\n",
    "    # 모델로부터 텍스트 생성\n",
    "    max_length = tokenizer.model_max_length\n",
    "    print(\"모델의 최대 길이:\", max_length)\n",
    "    with torch.no_grad():\n",
    "        generated_ids = model.generate(\n",
    "            input_ids,\n",
    "            max_length=max_length,\n",
    "            temperature=0.7,\n",
    "            top_k=50,\n",
    "            top_p=0.9,\n",
    "            repetition_penalty=1.2,\n",
    "            no_repeat_ngram_size=2,\n",
    "            eos_token_id=tokenizer.eos_token_id  # 종료 토큰 설정\n",
    "        )\n",
    "\n",
    "\n",
    "    # 생성된 토큰을 텍스트로 변환\n",
    "    output_text = tokenizer.decode(generated_ids[0], skip_special_tokens=True)\n",
    "\n",
    "    # 조건문을 사용하여 출력할 텍스트 결정\n",
    "    if len(output_text) > len(input_text):\n",
    "        # output_text가 input_text보다 길다면 input_text 부분을 잘라낸 후 출력\n",
    "        response_text = output_text[len(input_text):].strip()\n",
    "    else:\n",
    "        # output_text가 input_text보다 짧거나 같다면 그대로 출력\n",
    "        response_text = output_text.strip()\n",
    "\n",
    "    print(\"모델 응답:\", response_text)\n",
    "\n",
    "    import gc\n",
    "    del model\n",
    "    del tokenizer\n",
    "    gc.collect()"
   ]
  }
 ],
 "metadata": {
  "kernelspec": {
   "display_name": "base",
   "language": "python",
   "name": "python3"
  },
  "language_info": {
   "codemirror_mode": {
    "name": "ipython",
    "version": 3
   },
   "file_extension": ".py",
   "mimetype": "text/x-python",
   "name": "python",
   "nbconvert_exporter": "python",
   "pygments_lexer": "ipython3",
   "version": "3.10.15"
  }
 },
 "nbformat": 4,
 "nbformat_minor": 2
}
